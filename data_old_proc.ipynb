{
 "cells": [
  {
   "cell_type": "markdown",
   "metadata": {},
   "source": [
    "# 古文获取"
   ]
  },
  {
   "cell_type": "markdown",
   "metadata": {},
   "source": [
    "## 尝试获取网页"
   ]
  },
  {
   "cell_type": "code",
   "execution_count": 2,
   "metadata": {},
   "outputs": [
    {
     "data": {
      "text/plain": [
       "200"
      ]
     },
     "execution_count": 2,
     "metadata": {},
     "output_type": "execute_result"
    }
   ],
   "source": [
    "import requests\n",
    "\n",
    "r = requests.get('http://www.shiciwenji.com/shiji/list_1/', auth=('user', 'pass'))\n",
    "r.status_code"
   ]
  },
  {
   "cell_type": "code",
   "execution_count": 3,
   "metadata": {},
   "outputs": [
    {
     "data": {
      "text/plain": [
       "'text/html; charset=utf-8'"
      ]
     },
     "execution_count": 3,
     "metadata": {},
     "output_type": "execute_result"
    }
   ],
   "source": [
    "r.headers['content-type']"
   ]
  },
  {
   "cell_type": "code",
   "execution_count": 4,
   "metadata": {},
   "outputs": [
    {
     "data": {
      "text/plain": [
       "'utf-8'"
      ]
     },
     "execution_count": 4,
     "metadata": {},
     "output_type": "execute_result"
    }
   ],
   "source": [
    "r.encoding"
   ]
  },
  {
   "cell_type": "code",
   "execution_count": 5,
   "metadata": {},
   "outputs": [
    {
     "data": {
      "text/plain": [
       "'<!DOCTYPE HTML><html><head><meta http-equiv=\"Content-Type\" content=\"text/html; charset=UTF-8\"><title>古诗词大全_诗词文集网</title><meta http-equiv=\"Content-Language\" content=\"zh-cn\"><link rel=\"shortcut icon\" href=\"/favicon.ico\" type=\"image/x-icon\"><meta http-equiv=\"X-UA-Compatible\" content=\"IE=edge\"><meta name=\"application-name\" content=\"诗词文集网\"><meta content=\"诗词文集网\" name=\"author\"><meta name=\"viewport\" content=\"width=device-width, initial-scale=1.0, user-scalable=0, minimum-scale=1.0, maximum-scale=1.0\" /><link rel=\"stylesheet\" type=\"text/css\" media=\"screen and (min-width: 800px)\" href=\"/f/default/shiciwenji/css/common.css\"><link rel=\"stylesheet\" type=\"text/css\" media=\"screen and (max-width: 800px)\" href=\"/f/default/shiciwenji/css/mcommon.css\"><script type=\"text/javascript\" src=\"/f/default/shiciwenji/js/jquery-1.10.1.min.js\"></script><script type=\"text/javascript\" src=\"/f/default/shiciwenji/js/common.js\"></script><!--20190831_2212--><script type=\"text/javascript\">menuid=2;</script></head><body><div class=\"ui-head\"><div class=\"ui-main\"><div class=\"ui-head-logo\"><a href=\"/\" title=\"诗词文集\"></a></div><script type=\"text/javascript\">function MenuClick(vid){var mmenu = document.getElementById(vid);if(mmenu.style.display!=\\'block\\'){$(\"#\"+vid).show();}else{$(\"#\"+vid).hide();}}</script><div class=\"menu-a\" onclick=\"MenuClick(\\'main_menu\\')\"><span></span><span></span><span></span></div><div class=\"ui-head-item\" id=\"main_menu\"><ul id=\"group_menus\"><li class=\"cur\"><a href=\"/\">主页</a></li><li><a href=\"javascript:void(0);\" onclick=\"MenuClick(\\'menu_author\\')\">作者</a><dl id=\"menu_author\"><dd><a href=\"/authors/\">作者大全</a></dd><dd><a href=\"/authors/hecheng/\">作者合称</a></dd><dd><a href=\"/authors/chenghao/\">作者称号</a></dd></dl></li><li><a href=\"/shiji/\">诗词</a></li><li><a href=\"/cipai/\">词牌名</a></li><li><a href=\"javascript:void(0);\" onclick=\"MenuClick(\\'menu_book\\')\">古籍</a><dl id=\"menu_book\"><dd><a href=\"/books/sishu/\">四书</a></dd><dd><a href=\"/books/wujing/\">五经</a></dd><dd><a href=\"/books/yanyixiaoshuo/\">演义小说</a></dd><dd><a href=\"/books/sidamingzhu/\">四大名著</a></dd><dd><a href=\"/books/ershisishi/\">二十四史</a></dd><dd><a href=\"/books/\">全部</a></dd></dl></li><li><a href=\"/mingjus/\">名句</a></li></ul></div><div class=\"ui-head-search\"><form action=\"/search.shtml\" id=\"search_form\" autocomplete=\"off\"><input type=\"hidden\" name=\"type\" id=\"typeid\" value=\"\"/><div class=\"search-input\"><input type=\"text\" class=\"input_txt\" id=\"search_txt\" placeholder=\"请输入查询\" name=\"value\" maxlength=\"64\"><button id=\"search_but\"></button></div><div class=\"search_list\" id=\"search_list_div\"></div></form></div><div class=\"clear\"></div></div></div><script type=\"text/javascript\">showAd(\"shiciwenji_wxh\")</script><!--20190831_2212--><div class=\"ui-main\">\\t\\t<div class=\"fl w630\"> \\t\\t<div class=\"channels\">\\t\\t\\t<div class=\"title line\"><h2>古诗词大全<span>1  /  1000页</span></h2><div class=\"line\"></div></div>\\t\\t\\t<div class=\"type\">\\t\\t\\t\\t<label>类型：</label>\\t\\t\\t\\t<ul id=\"type1\"><li name=\"tag_t365\"><a href=\"/shiji/xiejing/\">写景</a></li><li name=\"tag_t493\"><a href=\"/shiji/t493/\">咏物</a></li><li name=\"tag_t869\"><a href=\"/shiji/t869/\">春天</a></li><li name=\"tag_t541\"><a href=\"/shiji/t541/\">夏天</a></li><li name=\"tag_t1073\"><a href=\"/shiji/t1073/\">秋天</a></li><li name=\"tag_t410\"><a href=\"/shiji/t410/\">冬天</a></li><li name=\"tag_t394\"><a href=\"/shiji/t394/\">写雨</a></li><li name=\"tag_t395\"><a href=\"/shiji/t395/\">写雪</a></li><li name=\"tag_t913\"><a href=\"/shiji/t913/\">梅花</a></li><li name=\"tag_t1149\"><a href=\"/shiji/t1149/\">荷花</a></li><li name=\"tag_t639\"><a href=\"/shiji/shanshui/\">山水</a></li><li name=\"tag_t992\"><a href=\"/shiji/t992/\">爱情</a></li><li name=\"tag_t569\"><a href=\"/shiji/t569/\">婉约</a></li><li name=\"tag_t878\"><a href=\"/shiji/t878/\">春节</a></li><li name=\"tag_t350\"><a href=\"/shiji/t350/\">元宵节</a></li><li name=\"tag_t958\"><a href=\"/shiji/t958/\">清明节</a></li><li name=\"tag_t1089\"><a href=\"/shiji/t1089/\">端午节</a></li><li name=\"tag_t281\"><a href=\"/shiji/t281/\">中秋节</a></li><li name=\"tag_t507\"><a href=\"/shiji/tangshi/\">唐诗三百首</a></li><li name=\"tag_t579\"><a href=\"/shiji/t579/\">宋词三百首</a></li><li name=\"tag_t463\"><a href=\"/shiji/songsan/\">古诗三百首</a></li><li name=\"tag_t464\"><a href=\"/shiji/t464/\">古诗十九首</a></li><li name=\"tag_t1190\"><a href=\"/shiji/shijing/\">诗经</a></li><li name=\"tag_t580\"><a href=\"/shiji/t580/\">宋词精选</a></li><li name=\"tag_t462\"><a href=\"/shiji/guanzhi/\">古文观止</a></li><li name=\"tag_t623\"><a href=\"/shiji/xiaoxue/\">小学古诗</a></li><li name=\"tag_t424\"><a href=\"/shiji/chuzhong/\">初中古诗</a></li><li name=\"tag_t1315\"><a href=\"/shiji/gaozhong/\">高中古诗</a></li><li name=\"tag_t624\"><a href=\"/shiji/t624/\">小学文言文</a></li><li name=\"tag_t425\"><a href=\"/shiji/chuwen/\">初中文言文</a></li><li name=\"tag_t1316\"><a href=\"/shiji/gaowen/\">高中文言文</a></li><li name=\"tag_t284\"><a href=\"/shiji/yuefu/\">乐府</a></li><li name=\"tag_t918\"><a href=\"/shiji/t918/\">楚辞</a></li><!--20181001_1917--></ul>\\t\\t\\t\\t<div class=\"typemore\" forid=\"type1\"></div>\\t\\t\\t\\t<div class=\"line\"></div>\\t\\t\\t</div>\\t\\t\\t<div class=\"type\">\\t\\t\\t\\t<label>朝代：</label>\\t\\t\\t\\t<ul id=\"type2\"><li name=\"tag_h1\"><a href=\"/shiji/h1/\">先秦</a></li><li name=\"tag_h2\"><a href=\"/shiji/h2/\">两汉</a></li><li name=\"tag_h3\"><a href=\"/shiji/h3/\">魏晋</a></li><li name=\"tag_h4\"><a href=\"/shiji/h4/\">南北朝</a></li><li name=\"tag_h5\"><a href=\"/shiji/h5/\">隋代</a></li><li name=\"tag_h6\"><a href=\"/shiji/h6/\">唐代</a></li><li name=\"tag_h7\"><a href=\"/shiji/h7/\">五代</a></li><li name=\"tag_h8\"><a href=\"/shiji/h8/\">宋代</a></li><li name=\"tag_h15\"><a href=\"/shiji/h15/\">金朝</a></li><li name=\"tag_h14\"><a href=\"/shiji/h14/\">辽朝</a></li><li name=\"tag_h9\"><a href=\"/shiji/h9/\">元代</a></li><li name=\"tag_h10\"><a href=\"/shiji/h10/\">明代</a></li><li name=\"tag_h11\"><a href=\"/shiji/h11/\">清代</a></li><li name=\"tag_h12\"><a href=\"/shiji/h12/\">近代</a></li><li name=\"tag_h13\"><a href=\"/shiji/h13/\">现代</a></li><li name=\"tag_h16\"><a href=\"/shiji/h16/\">当代</a></li><!--20181001_1917--></ul>\\t\\t\\t\\t<div class=\"typemore\" forid=\"type2\"></div>\\t\\t\\t\\t<div class=\"line\"></div>\\t\\t\\t</div>\\t\\t\\t<div class=\"type\">\\t\\t\\t\\t<label>形式：</label>\\t\\t\\t\\t<ul id=\"type2\"><li name=\"tag_q1\"><a href=\"/shiji/q1/\">诗</a></li><li name=\"tag_q2\"><a href=\"/shiji/q2/\">词</a></li><li name=\"tag_q3\"><a href=\"/shiji/q3/\">曲</a></li><li name=\"tag_q4\"><a href=\"/shiji/q4/\">文言文</a></li><!--20181001_1917--></ul>\\t\\t\\t</div>\\t\\t</div>      \\t  \\t\\t<div class=\"sons\">\\t\\t\\t<div class=\"cont\">\\t\\t\\t\\t<h2><a href=\"/shici/d1wkmha/\">将进酒</a></h2>\\t\\t\\t\\t<p class=\"source\"><a href=\"/shiji/?word=唐代\">唐代</a>：<a href=\"/author/cgiqoj7/\">李白</a> </p>\\t\\t\\t\\t<div class=\"cont_son\">\\t\\t\\t\\t君不见，黄河之水天上来，奔流到海不复回。<br/>君不见，高堂明镜悲白发，朝如青丝暮成雪。<br/>人生得意须尽欢，莫使金樽空对月。<br/>天生我材必有用，千金散尽还复来。<br/>烹羊宰牛且为乐，会须一饮三百杯。<br/>岑夫子，丹丘生，将进酒，杯莫停。<br/>与君歌一曲，请君为我倾耳听。(倾耳听 一作：侧耳听)<br/>钟鼓馔玉不足贵，但愿长醉不复醒。(不足贵 一作：何足贵；不复醒 一作：不愿醒/不用醒)<br/>古来圣贤皆寂寞，惟有饮者留其名。(古来 一作：自古；惟 通：唯)<br/>陈王昔时宴平乐，斗酒十千恣欢谑。<br/>主人何为言少钱，径须沽取对君酌。<br/>五花马，千金裘，呼儿将出换美酒，与尔同销万古愁。\\t\\t\\t\\t</div>\\t\\t\\t</div>\\t\\t    <div class=\"tag\"><a href=\"/shiji/yuefu/\">乐府</a>、<a href=\"/shiji/yongwu/\">咏物</a>、<a href=\"/shiji/zheli/\">哲理</a>、<a href=\"/shiji/tangshi/\">唐诗三百首</a>、<a href=\"/shiji/t591/\">宴饮</a>、<a href=\"/shiji/shanshui/\">山水</a>、<a href=\"/shiji/shuqing/\">抒情</a>、<a href=\"/shiji/t1311/\">饮酒</a>\\t\\t     </div>\\t\\t</div>  \\t\\t<div class=\"sons\">\\t\\t\\t<div class=\"cont\">\\t\\t\\t\\t<h2><a href=\"/shici/6dx77ja/\">水调歌头·明月几时有</a></h2>\\t\\t\\t\\t<p class=\"source\"><a href=\"/shiji/?word=宋代\">宋代</a>：<a href=\"/author/h404tdq/\">苏轼</a> </p>\\t\\t\\t\\t<div class=\"cont_son\">\\t\\t\\t\\t丙辰中秋，欢饮达旦，大醉，作此篇，兼怀子由。<br/>明月几时有？把酒问青天。不知天上宫阙，今夕是何年。我欲乘风归去，又恐琼楼玉宇，高处不胜寒。起舞弄清影，何似在人间？(何似 一作：何时；又恐 一作：惟 / 唯恐)<br/>转朱阁，低绮户，照无眠。不应有恨，何事长向别时圆？人有悲欢离合，月有阴晴圆缺，此事古难全。但愿人长久，千里共婵娟。(长向 一作：偏向)\\t\\t\\t\\t</div>\\t\\t\\t</div>\\t\\t    <div class=\"tag\"><a href=\"/shiji/zhongqiu/\">中秋节</a>、<a href=\"/shiji/chuzhong/\">初中古诗</a>、<a href=\"/shiji/songsan/\">古诗三百首</a>、<a href=\"/shiji/t579/\">宋词三百首</a>、<a href=\"/shiji/songci/\">宋词精选</a>、<a href=\"/shiji/t691/\">怀人</a>、<a href=\"/shiji/yueliang/\">月亮</a>、<a href=\"/shiji/t1052/\">祝福</a>、<a href=\"/shiji/jieri/\">节日</a>、<a href=\"/shiji/haofang/\">豪放</a>、<a href=\"/shiji/gaozhong/\">高中古诗</a>\\t\\t     </div>\\t\\t</div>  \\t\\t<div class=\"sons\">\\t\\t\\t<div class=\"cont\">\\t\\t\\t\\t<h2><a href=\"/shici/7drtgs2/\">桃花源记</a></h2>\\t\\t\\t\\t<p class=\"source\"><a href=\"/shiji/?word=魏晋\">魏晋</a>：<a href=\"/author/33ostre/\">陶渊明</a> </p>\\t\\t\\t\\t<div class=\"cont_son\">\\t\\t\\t\\t晋太元中，武陵人捕鱼为业。缘溪行，忘路之远近。忽逢桃花林，夹岸数百步，中无杂树，芳草鲜美，落英缤纷，渔人甚异之。复前行，欲穷其林。<br/>林尽水源，便得一山，山有小口，仿佛若有光。便舍船，从口入。初极狭，才通人。复行数十步，豁然开朗。土地平旷，屋舍俨然，有良田美池桑竹之属。阡陌交通，鸡犬相闻。其中往来种作，男女衣着，悉如外人。黄发垂髫，并怡然自乐。<br/>见渔人，乃大惊，问所从来。具答之。便要还家，设酒杀鸡作食。村中闻有此人，咸来问讯。自云先世避秦时乱，率妻子邑人来此绝境，不复出焉，遂与外人间隔。问今是何世，乃不知有汉，无论魏晋。此人一一为具言所闻，皆叹惋。余人各复延至其家，皆出酒食。停数日，辞去。此中人语云：“不足为外人道也。”(间隔 一作：隔绝)<br/>既出，得其船，便扶向路，处处志之。及郡下，诣太守，说如此。太守即遣人随其往，寻向所志，遂迷，不复得路。<br/>南阳刘子骥，高尚士也，闻之，欣然规往。未果，寻病终，后遂无问津者。\\t\\t\\t\\t</div>\\t\\t\\t</div>\\t\\t    <div class=\"tag\"><a href=\"/shiji/chuwen/\">初中文言文</a>、<a href=\"/shiji/guanzhi/\">古文观止</a>、<a href=\"/shiji/t1004/\">理想</a>、<a href=\"/shiji/t1010/\">生活</a>\\t\\t     </div>\\t\\t</div>  \\t\\t<div class=\"sons\">\\t\\t\\t<div class=\"cont\">\\t\\t\\t\\t<h2><a href=\"/shici/3lcjy3q/\">陋室铭</a></h2>\\t\\t\\t\\t<p class=\"source\"><a href=\"/shiji/?word=唐代\">唐代</a>：<a href=\"/author/fjge2hm/\">刘禹锡</a> </p>\\t\\t\\t\\t<div class=\"cont_son\">\\t\\t\\t\\t山不在高，有仙则名。水不在深，有龙则灵。斯是陋室，惟吾德馨。苔痕上阶绿，草色入帘青。谈笑有鸿儒，往来无白丁。可以调素琴，阅金经。无丝竹之乱耳，无案牍之劳形。南阳诸葛庐，西蜀子云亭。孔子云：何陋之有？\\t\\t\\t\\t</div>\\t\\t\\t</div>\\t\\t    <div class=\"tag\"><a href=\"/shiji/chuwen/\">初中文言文</a>、<a href=\"/shiji/guanzhi/\">古文观止</a>、<a href=\"/shiji/yongwu/\">咏物</a>、<a href=\"/shiji/t503/\">品格</a>、<a href=\"/shiji/t1217/\">赞美</a>\\t\\t     </div>\\t\\t</div>  \\t\\t<div class=\"sons\">\\t\\t\\t<div class=\"cont\">\\t\\t\\t\\t<h2><a href=\"/shici/cs8cehc/\">爱莲说</a></h2>\\t\\t\\t\\t<p class=\"source\"><a href=\"/shiji/?word=宋代\">宋代</a>：<a href=\"/author/xl1xzxx/\">周敦颐</a> </p>\\t\\t\\t\\t<div class=\"cont_son\">\\t\\t\\t\\t水陆草木之花，可爱者甚蕃。晋陶渊明独爱菊。自李唐来，世人甚爱牡丹。予独爱莲之出淤泥而不染，濯清涟而不妖，中通外直，不蔓不枝，香远益清，亭亭净植，可远观而不可亵玩焉。(甚爱 一作：盛爱)<br/>予谓菊，花之隐逸者也；牡丹，花之富贵者也；莲，花之君子者也。噫！菊之爱，陶后鲜有闻。莲之爱，同予者何人?牡丹之爱，宜乎众矣!\\t\\t\\t\\t</div>\\t\\t\\t</div>\\t\\t    <div class=\"tag\"><a href=\"/shiji/chuwen/\">初中文言文</a>、<a href=\"/shiji/t503/\">品格</a>、<a href=\"/shiji/t817/\">抒怀</a>、<a href=\"/shiji/t1150/\">莲花</a>\\t\\t     </div>\\t\\t</div>  \\t\\t<div class=\"sons\">\\t\\t\\t<div class=\"cont\">\\t\\t\\t\\t<h2><a href=\"/shici/aauprtj/\">沁园春·雪</a></h2>\\t\\t\\t\\t<p class=\"source\"><a href=\"/shiji/?word=近代\">近代</a>：<a href=\"/search.shtml?type=author&value=毛泽东\">毛泽东</a> </p>\\t\\t\\t\\t<div class=\"cont_son\">\\t\\t\\t\\t北国风光，千里冰封，万里雪飘。<br/>望长城内外，惟余莽莽；大河上下，顿失滔滔。(余 通：馀)<br/>山舞银蛇，原驰蜡象，欲与天公试比高。(原驰 原作：原驱)<br/>须晴日，看红装素裹，分外妖娆。(红装 一作：银装)<br/>江山如此多娇，引无数英雄竞折腰。<br/>惜秦皇汉武，略输文采；唐宗宋祖，稍逊风骚。<br/>一代天骄，成吉思汗，只识弯弓射大雕。<br/>俱往矣，数风流人物，还看今朝。\\t\\t\\t\\t</div>\\t\\t\\t</div>\\t\\t    <div class=\"tag\"><a href=\"/shiji/xue/\">写雪</a>、<a href=\"/shiji/zheli/\">哲理</a>、<a href=\"/shiji/shuqing/\">抒情</a>、<a href=\"/shiji/t1172/\">言志</a>\\t\\t     </div>\\t\\t</div>  \\t\\t<div class=\"sons\">\\t\\t\\t<div class=\"cont\">\\t\\t\\t\\t<h2><a href=\"/shici/cqxyns3/\">满江红·写怀</a></h2>\\t\\t\\t\\t<p class=\"source\"><a href=\"/shiji/?word=宋代\">宋代</a>：<a href=\"/author/qsqdfuk/\">岳飞</a> </p>\\t\\t\\t\\t<div class=\"cont_son\">\\t\\t\\t\\t怒发冲冠，凭栏处、潇潇雨歇。抬望眼，仰天长啸，壮怀激烈。三十功名尘与土，八千里路云和月。莫等闲，白了少年头，空悲切！(栏 通：阑)<br/>靖康耻，犹未雪。臣子恨，何时灭！驾长车，踏破贺兰山缺。壮志饥餐胡虏肉，笑谈渴饮匈奴血。待从头、收拾旧山河，朝天阙。(壮志 一作：壮士；兰山缺 一作：兰山阙)\\t\\t\\t\\t</div>\\t\\t\\t</div>\\t\\t    <div class=\"tag\"><a href=\"/shiji/lizhi/\">励志</a>、<a href=\"/shiji/songsan/\">古诗三百首</a>、<a href=\"/shiji/t536/\">壮志</a>、<a href=\"/shiji/t579/\">宋词三百首</a>、<a href=\"/shiji/aiguo/\">爱国</a>\\t\\t     </div>\\t\\t</div>  \\t\\t<div class=\"sons\">\\t\\t\\t<div class=\"cont\">\\t\\t\\t\\t<h2><a href=\"/shici/qmqlkb7/\">元日</a></h2>\\t\\t\\t\\t<p class=\"source\"><a href=\"/shiji/?word=宋代\">宋代</a>：<a href=\"/author/x2qeppb/\">王安石</a> </p>\\t\\t\\t\\t<div class=\"cont_son\">\\t\\t\\t\\t爆竹声中一岁除，春风送暖入屠苏。<br/>千门万户曈曈日，总把新桃换旧符。\\t\\t\\t\\t</div>\\t\\t\\t</div>\\t\\t    <div class=\"tag\"><a href=\"/shiji/xiaoxue/\">小学古诗</a>、<a href=\"/shiji/t828/\">抱负</a>、<a href=\"/shiji/t858/\">早教古诗100首</a>、<a href=\"/shiji/chunjie/\">春节</a>、<a href=\"/shiji/jieri/\">节日</a>、<a href=\"/shiji/t1303/\">风俗</a>\\t\\t     </div>\\t\\t</div>  \\t\\t<div class=\"sons\">\\t\\t\\t<div class=\"cont\">\\t\\t\\t\\t<h2><a href=\"/shici/aln97mi/\">木兰诗 / 木兰辞</a></h2>\\t\\t\\t\\t<p class=\"source\"><a href=\"/shiji/?word=南北朝\">南北朝</a>：<a href=\"/search.shtml?type=author&value=佚名\">佚名</a> </p>\\t\\t\\t\\t<div class=\"cont_son\">\\t\\t\\t\\t唧唧复唧唧，木兰当户织。不闻机杼声，惟闻女叹息。(惟闻 通：唯)问女何所思，问女何所忆。女亦无所思，女亦无所忆。昨夜见军帖，可汗大点兵，军书十二卷，卷卷有爷名。阿爷无大儿，木兰无长兄，愿为市鞍马，从此替爷征。<br/>东市买骏马，西市买鞍鞯，南市买辔头，北市买长鞭。旦辞爷娘去，暮宿黄河边，不闻爷娘唤女声，但闻黄河流水鸣溅溅。旦辞黄河去，暮至黑山头，不闻爷娘唤女声，但闻燕山胡骑鸣啾啾。<br/>万里赴戎机，关山度若飞。朔气传金柝，寒光照铁衣。将军百战死，壮士十年归。<br/>归来见天子，天子坐明堂。策勋十二转，赏赐百千强。可汗问所欲，木兰不用尚书郎，愿驰千里足，送儿还故乡。(一作：愿借明驼千里足)<br/>爷娘闻女来，出郭相扶将；阿姊闻妹来，当户理红妆；小弟闻姊来，磨刀霍霍向猪羊。开我东阁门，坐我西阁床，脱我战时袍，著我旧时裳。当窗理云鬓，对镜帖花黄。出门看火伴，火伴皆惊忙：同行十二年，不知木兰是女郎。（帖 通：贴；惊忙 一作：惶；惶 火伴 通：伙）<br/>雄兔脚扑朔，雌兔眼迷离；双兔傍地走，安能辨我是雄雌？\\t\\t\\t\\t</div>\\t\\t\\t</div>\\t\\t    <div class=\"tag\"><a href=\"/shiji/yuefu/\">乐府</a>、<a href=\"/shiji/xieren/\">写人</a>、<a href=\"/shiji/chuzhong/\">初中古诗</a>、<a href=\"/shiji/chuwen/\">初中文言文</a>、<a href=\"/shiji/t455/\">叙事</a>、<a href=\"/shiji/t560/\">女子</a>、<a href=\"/shiji/zhanzheng/\">战争</a>、<a href=\"/shiji/t933/\">民歌</a>、<a href=\"/shiji/t1217/\">赞美</a>\\t\\t     </div>\\t\\t</div>  \\t\\t<div class=\"sons\">\\t\\t\\t<div class=\"cont\">\\t\\t\\t\\t<h2><a href=\"/shici/7g1pgi1/\">春望</a></h2>\\t\\t\\t\\t<p class=\"source\"><a href=\"/shiji/?word=唐代\">唐代</a>：<a href=\"/author/zlbxt50/\">杜甫</a> </p>\\t\\t\\t\\t<div class=\"cont_son\">\\t\\t\\t\\t国破山河在，城春草木深。<br/>感时花溅泪，恨别鸟惊心。<br/>烽火连三月，家书抵万金。<br/>白头搔更短，浑欲不胜簪。\\t\\t\\t\\t</div>\\t\\t\\t</div>\\t\\t    <div class=\"tag\"><a href=\"/shiji/niao/\">写鸟</a>、<a href=\"/shiji/chuzhong/\">初中古诗</a>、<a href=\"/shiji/tangshi/\">唐诗三百首</a>、<a href=\"/shiji/t680/\">忧国忧民</a>、<a href=\"/shiji/youguo/\">忧民</a>、<a href=\"/shiji/sixiang/\">思乡</a>、<a href=\"/shiji/zhanzheng/\">战争</a>、<a href=\"/shiji/t858/\">早教古诗100首</a>、<a href=\"/shiji/aiguo/\">爱国</a>\\t\\t     </div>\\t\\t</div>                                                                                                                                                                                                                                                                                                                                                                                                                                                                                                                                                                                                                                                                                                                                                                                                                                                                                                                                                                                                                                                                                                                                                                                                                                                                                                                                                                                                                                                                                                                                                                                                                                                                                                                                                                                                                                                                                                                                                                                                                                                                                                                                                                                                                                                                                                                                                                                                                                                                                                                                                                                                                                                                                                                                                                                                                                                                                                                                                                                                                                                                                                                                                                                                                                                                                                                                                                                                                                                                                                                                                                                                                                                                                                                                                                                                                                                                                                                                                                                                                                                                                                                                                                                                                                                                                                                                                                                                                                                                                                                                                                                                                                                                                                                                                                                                                                                                                                                                                                                                                                                                                                                                                                                                                                                                                                                                                                                                                                                                                                                                                                                                                                                                                                                                                                                                                                                                                                                                                                                                                                                                                                                                                                                                                                                                                                                                                                                                                                                                                                                                                                                                                                                                                                                                                                                                                                                                                                                                                                                                                                                                                                                                                                                                                                                                                                                                                                                                                                                                                                                                                                                                                                                                                                                                                                                                                                                                                                                                                                                                                                                                                                                                                                                                                                                                                                                                                                                                                                                                                                                                                                                                                                                                                                                                                                                                                                                                                                                                                                                                                                                                                                                                                                                                                                                                                                                                                                                                                                                                                                                                                                                                                                                                                                                                                                                                                                                                                                                                                                                                                                                                                                                                                                                                                                                                                                                                                                                                                                                                                                                                                                                                                                                                                                                                                                                                                                                                                                                                                                                                                                                                                                                                                                                                                                                                                                                                                                                                                                                                                                                                                                                                                                                                                                                                                                                                                                                                                                                                                                                                                                                                                                                                                                                                                                                                                                                                                                                                                                                                                                                                                                                                                                                                                                                                                                                                                                                                                                                                                                                                                                                                                                                                                                                                                                                                                                                                                                                                                                                                                                                                                                                                                                                                                                                                                                                                                                                                                                                                                                                                                                                                                                                                                                                                                                                                                                                                                                                                                                                                                                                                                                                                                                                                                                                                                                                                                                                                                                                                                                                                                                                                                                                                                                                                                                                                                                                                                                                                                                                                                                                                                                                                                                                                                                                                                                                                                                                                                                                                                                                                                                                                                                                                                                                                                                                                                                                                                                                                                                                                                                                                                                                                                                                                                                                                                                                                                                                                                                                                                                                                                                                                                                                                                                                                                                                                                                                                                                                                                                                                                                                                                                                                                                                                                                                                                                                                                                                                                                                                                                                                                                                                                                                                                                                                                                                                                                                                                                                                                                                                                                                                                                                                                                                                                                                                                                                                                                                                                                                                                                                                                                                                                                                                                                                                                                                                                                                                                                                                                                                                                                                                                                                                                                                                                                                                                                                                                                                                                                                                                                                                                                                                                                                                                                                                                                                                                                                                                                                                                                                                                                                                                                                                                                                                                                                                                                                                                  <div class=\"pages\">      <a class=\"up dis\">上一页</a>      <span><input type=\"text\" name=\"list_page_num\" id=\"list_page_num\" furl=\"/shiji/\" purl=\"/shiji/list_@pageno@/\" value=\"1\" curpage=\"1\" totalpage=\"1000\"/>/1000页</span>      <a href=\"/shiji/list_2/\" class=\"next\">下一页</a>      </div>      </div>\\t  <div class=\"fr w360\">\\t\\t<div class=\"sons\"><div class=\"list_3\"><h3>类型</h3><ul><li><a href=\"/shiji/tangshi/\">唐诗三百首</a></li><li><a href=\"/shiji/songsan/\">古诗三百首</a></li><li><a href=\"/shiji/shijiu/\">古诗十九首</a></li><li><a href=\"/shiji/shijing/\">诗经</a></li><li><a href=\"/shiji/songci/\">宋词精选</a></li><li><a href=\"/shiji/guanzhi/\">古文观止</a></li><li><a href=\"/shiji/xiaoxue/\">小学古诗</a></li><li><a href=\"/shiji/chuzhong/\">初中古诗</a></li><li><a href=\"/shiji/gaozhong/\">高中古诗</a></li><li><a href=\"/shiji/xiaowen/\">小学文言文</a></li><li><a href=\"/shiji/chuwen/\">初中文言文</a></li><li><a href=\"/shiji/gaowen/\">高中文言文</a></li><li><a href=\"/shiji/yuefu/\">乐府</a></li><li><a href=\"/shiji/chuci/\">楚辞</a></li><li><a href=\"/shiji/xiejing/\">写景</a></li><li><a href=\"/shiji/yongwu/\">咏物</a></li><li><a href=\"/shiji/chuntian/\">春天</a></li><li><a href=\"/shiji/xiatian/\">夏天</a></li><li><a href=\"/shiji/qiutian/\">秋天</a></li><li><a href=\"/shiji/dongtian/\">冬天</a></li><li><a href=\"/shiji/yu/\">写雨</a></li><li><a href=\"/shiji/xue/\">写雪</a></li><li><a href=\"/shiji/feng/\">写风</a></li><li><a href=\"/shiji/hua/\">写花</a></li><li><a href=\"/shiji/meihua/\">梅花</a></li><li><a href=\"/shiji/hehua/\">荷花</a></li><li><a href=\"/shiji/juhua/\">菊花</a></li><li><a href=\"/shiji/liushu/\">柳树</a></li><li><a href=\"/shiji/yueliang/\">月亮</a></li><li><a href=\"/shiji/shanshui/\">山水</a></li><li><a href=\"/shiji/shan/\">写山</a></li><li><a href=\"/shiji/shui/\">写水</a></li><li><a href=\"/shiji/changjiang/\">长江</a></li><li><a href=\"/shiji/huanghe/\">黄河</a></li><li><a href=\"/shiji/ertong/\">儿童</a></li><li><a href=\"/shiji/niao/\">写鸟</a></li><li><a href=\"/shiji/ma/\">写马</a></li><li><a href=\"/shiji/tianyuan/\">田园</a></li><li><a href=\"/shiji/biansai/\">边塞</a></li><li><a href=\"/shiji/diming/\">地名</a></li><li><a href=\"/shiji/shuqing/\">抒情</a></li><li><a href=\"/shiji/aiguo/\">爱国</a></li><li><a href=\"/shiji/libie/\">离别</a></li><li><a href=\"/shiji/songbie/\">送别</a></li><li><a href=\"/shiji/sixiang/\">思乡</a></li><li><a href=\"/shiji/sinian/\">思念</a></li><li><a href=\"/shiji/aiqing/\">爱情</a></li><li><a href=\"/shiji/lizhi/\">励志</a></li><li><a href=\"/shiji/zheli/\">哲理</a></li><li><a href=\"/shiji/guiyuan/\">闺怨</a></li><li><a href=\"/shiji/daowang/\">悼亡</a></li><li><a href=\"/shiji/xieren/\">写人</a></li><li><a href=\"/shiji/laoshi/\">老师</a></li><li><a href=\"/shiji/muqin/\">母亲</a></li><li><a href=\"/shiji/youqing/\">友情</a></li><li><a href=\"/shiji/zhanzheng/\">战争</a></li><li><a href=\"/shiji/dushu/\">读书</a></li><li><a href=\"/shiji/xishi/\">惜时</a></li><li><a href=\"/shiji/wanyue/\">婉约</a></li><li><a href=\"/shiji/haofang/\">豪放</a></li><li><a href=\"/shiji/minyao/\">民谣</a></li><li><a href=\"/shiji/jieri/\">节日</a></li><li><a href=\"/shiji/chunjie/\">春节</a></li><li><a href=\"/shiji/yuanxiao/\">元宵节</a></li><li><a href=\"/shiji/hanshi/\">寒食节</a></li><li><a href=\"/shiji/qingming/\">清明节</a></li><li><a href=\"/shiji/duanwu/\">端午节</a></li><li><a href=\"/shiji/qixi/\">七夕节</a></li><li><a href=\"/shiji/zhongqiu/\">中秋节</a></li><li><a href=\"/shiji/chongyang/\">重阳节</a></li><li><a href=\"/shiji/zhongqiu/\">中秋</a></li><li><a href=\"/shiji/youguo/\">忧民</a></li><li><a href=\"/shiji/huaigu/\">怀古</a></li></ul></div></div><!--20181001_1917-->\\t  </div></div><div class=\"clear\"></div><div class=\"ui-footer\"><div class=\"ui-main bord_t\"><p class=\"link\"><a href=\"/\">关于本站</a>|<a href=\"/\">联系我们</a>|<a href=\"/\">网站Map</a>|<script type=\"text/javascript\">var cnzz_protocol = ((\"https:\" == document.location.protocol) ? \" https://\" : \" http://\");document.write(unescape(\"%3Cspan id=\\'cnzz_stat_icon_4581094\\'%3E%3C/span%3E%3Cscript src=\\'\" + cnzz_protocol + \"s11.cnzz.com/stat.php%3Fid%3D4581094\\' type=\\'text/javascript\\'%3E%3C/script%3E\"));</script>|<a href=\"http://www.miitbeian.gov.cn\">鄂ICP备17026867号-4</a></p><p class=\"copyright\">Copyright © 2018 <a href=\"http://www.shiciwenji.com\">www.shiciwenji.com</a> All Rights Reserved.</p></div><div class=\"clear\"></div></div><div class=\"videoplay\" id=\"videoplay\"></div><script>(function(){var bp = document.createElement(\\'script\\');var curProtocol = window.location.protocol.split(\\':\\')[0];if (curProtocol === \\'https\\') {bp.src = \\'https://zz.bdstatic.com/linksubmit/push.js\\';}else {bp.src = \\'http://push.zhanzhang.baidu.com/push.js\\';}var s = document.getElementsByTagName(\"script\")[0];s.parentNode.insertBefore(bp, s);})();</script><script>var _hmt = _hmt || [];(function() {var hm = document.createElement(\"script\");hm.src = \"https://hm.baidu.com/hm.js?f59576c4efa4a0c95d9d0dd43cf26619\";var s = document.getElementsByTagName(\"script\")[0];s.parentNode.insertBefore(hm, s);})();</script><script>(function(){var src = (document.location.protocol == \"http:\") ? \"http://js.passport.qihucdn.com/11.0.1.js?e3e336a193a89c3d33c4939c6c54333a\":\"https://jspassport.ssl.qhimg.com/11.0.1.js?e3e336a193a89c3d33c4939c6c54333a\";document.write(\\'<script src=\"\\' + src + \\'\" id=\"sozz\"><\\\\/script>\\');})();</script><script src=\"http://res.wx.qq.com/open/js/jweixin-1.0.0.js\"></script><script src=\"/f/weixin/mshare.js\"></script><script src=\"/f/weixin/tcommon.js\"></script><script type=\"text/javascript\">shareAppWX(\"share\");</script><!--20190831_2212--></body></html>'"
      ]
     },
     "execution_count": 5,
     "metadata": {},
     "output_type": "execute_result"
    }
   ],
   "source": [
    "r.text"
   ]
  },
  {
   "cell_type": "markdown",
   "metadata": {},
   "source": [
    "## 简单处理一个网页"
   ]
  },
  {
   "cell_type": "code",
   "execution_count": 7,
   "metadata": {},
   "outputs": [],
   "source": [
    "import bs4\n",
    "\n",
    "soup = bs4.BeautifulSoup(r.text, 'html.parser')"
   ]
  },
  {
   "cell_type": "code",
   "execution_count": 8,
   "metadata": {},
   "outputs": [
    {
     "data": {
      "text/plain": [
       "str"
      ]
     },
     "execution_count": 8,
     "metadata": {},
     "output_type": "execute_result"
    }
   ],
   "source": [
    "type(soup.prettify())"
   ]
  },
  {
   "cell_type": "code",
   "execution_count": 9,
   "metadata": {},
   "outputs": [],
   "source": [
    "Ss = soup.find_all('div', 'sons')"
   ]
  },
  {
   "cell_type": "code",
   "execution_count": 29,
   "metadata": {},
   "outputs": [
    {
     "name": "stdout",
     "output_type": "stream",
     "text": [
      "open db successfully\n"
     ]
    }
   ],
   "source": [
    "# 连接数据库\n",
    "import sqlite3\n",
    "conn = sqlite3.connect('data_old.db')\n",
    "print('open db successfully')"
   ]
  },
  {
   "cell_type": "code",
   "execution_count": 30,
   "metadata": {},
   "outputs": [],
   "source": [
    "c = conn.cursor()\n"
   ]
  },
  {
   "cell_type": "code",
   "execution_count": 31,
   "metadata": {},
   "outputs": [
    {
     "data": {
      "text/plain": [
       "<sqlite3.Cursor at 0x20266b9adc0>"
      ]
     },
     "execution_count": 31,
     "metadata": {},
     "output_type": "execute_result"
    }
   ],
   "source": [
    "c.execute('''CREATE TABLE DataOld\n",
    "       (ID INT PRIMARY KEY     NOT NULL,\n",
    "       NAME           CHAR(50)    ,\n",
    "       AUTHOR       CHAR(50)     ,\n",
    "       TIME        CHAR(50),\n",
    "       CONT         TEXT);''')"
   ]
  },
  {
   "cell_type": "code",
   "execution_count": 32,
   "metadata": {},
   "outputs": [],
   "source": [
    "conn.commit()"
   ]
  },
  {
   "cell_type": "code",
   "execution_count": 48,
   "metadata": {},
   "outputs": [],
   "source": [
    "conn.close()"
   ]
  },
  {
   "cell_type": "code",
   "execution_count": 10,
   "metadata": {},
   "outputs": [
    {
     "name": "stdout",
     "output_type": "stream",
     "text": [
      "\t\t\t\t丙辰中秋，欢饮达旦，大醉，作此篇，兼怀子由。明月几时有？把酒问青天。不知天上宫阙，今夕是何年。我欲乘风归去，又恐琼楼玉宇，高处不胜寒。起舞弄清影，何似在人间？(何似 一作：何时；又恐 一作：惟 / 唯恐)转朱阁，低绮户，照无眠。不应有恨，何事长向别时圆？人有悲欢离合，月有阴晴圆缺，此事古难全。但愿人长久，千里共婵娟。(长向 一作：偏向)\t\t\t\t\n"
     ]
    }
   ],
   "source": [
    "print(Ss[1].div.div.text)"
   ]
  },
  {
   "cell_type": "markdown",
   "metadata": {},
   "source": [
    "## 写入一个网页"
   ]
  },
  {
   "cell_type": "code",
   "execution_count": 11,
   "metadata": {},
   "outputs": [],
   "source": [
    "# 带有标题名和作者\n",
    "with open('data_old_raw.txt', 'w', encoding='UTF-8') as w:\n",
    "    for s in Ss:\n",
    "        if s.h2 == None:\n",
    "            continue\n",
    "        name = s.h2.text\n",
    "        time = s.p.a.text\n",
    "        author = s.p.a.next_sibling.next_sibling.text\n",
    "        cont = s.div.div.text\n",
    "        w.write(name+'\\n')\n",
    "        w.write(time+',')\n",
    "        w.write(author+'\\n')\n",
    "        w.write(cont+'\\n')\n",
    "    "
   ]
  },
  {
   "cell_type": "markdown",
   "metadata": {},
   "source": [
    "## 写入两个网页"
   ]
  },
  {
   "cell_type": "code",
   "execution_count": null,
   "metadata": {},
   "outputs": [
    {
     "name": "stdout",
     "output_type": "stream",
     "text": [
      "25%  ||##->\r"
     ]
    }
   ],
   "source": [
    "# 不带标题名和作者\n",
    "import requests\n",
    "import bs4\n",
    "import sys\n",
    "import time\n",
    "\n",
    "count = 0\n",
    "with open('data_old_raw.txt', 'w', encoding='UTF-8') as w:\n",
    "    with open('data_old.txt', 'w', encoding='UTF-8') as w2:\n",
    "        for i in range(1000):\n",
    "            count += 1\n",
    "            r = requests.get('http://www.shiciwenji.com/shiji/list_{}/'.format(str(count)), auth=('user', 'pass'))\n",
    "            sys.stdout.write(str(int((i/1000)*100))+'%  ||'+('#'*int(i/100))+'->'+\"\\r\")\n",
    "            sys.stdout.flush()\n",
    "            soup = bs4.BeautifulSoup(r.text, 'html.parser')\n",
    "            Ss = soup.find_all('div', 'sons')\n",
    "            for s in Ss:\n",
    "                if s.h2 == None:\n",
    "                    continue\n",
    "                name = s.h2.text\n",
    "                Time = s.p.a.text\n",
    "                author = s.p.a.next_sibling.next_sibling.text\n",
    "                cont = s.div.div.text\n",
    "                w.write(name+'\\n')\n",
    "                w.write(Time+',')\n",
    "                w.write(author+'\\n')\n",
    "                w.write(cont+'\\n')\n",
    "                w2.write(cont+'\\n')\n",
    "            time.sleep(0.3)"
   ]
  },
  {
   "cell_type": "markdown",
   "metadata": {},
   "source": [
    "## 对另一个网址的诗文进行处理"
   ]
  },
  {
   "cell_type": "code",
   "execution_count": 25,
   "metadata": {
    "collapsed": true
   },
   "outputs": [
    {
     "name": "stdout",
     "output_type": "stream",
     "text": [
      "顾炎武\n",
      "\n",
      "双雁东北飞，飞飞向城阙。声含海上飙，影带吴山月。有客从南来，遗我一书札。上写召旻诗，如彼泉池竭。下列周鼎文，食人象饕餮。书成重密缄，一字一泣血。传之与贵人，相视莫敢发。所计一身肥，岂望天下活。\n",
      "\n",
      "顾炎武\n",
      "\n",
      "微言既以绝，一变为从横。下以游侠权，上以刑名衡。六国固蚩蚩，汉兴亦攘攘。不有董夫子，大道何由明。孝武尊六经，其功冠百王。节义生人材，流风被东京。世儒昧治本，一槩而相量。于乎三代还，此人安可忘。\n",
      "\n",
      "顾炎武\n",
      "\n",
      "人生中古馀，谁能免尤悔。况余庸驽姿，侧身涉危殆。窫窬起东嵎，长鲸翻渤澥。斯人且鱼烂，士类同禽骇。禀性特刚方，临难讵可改。伟节不西行，大祸何繇解。\n",
      "\n",
      "顾炎武\n",
      "\n",
      "伊尹适有夏，太公之朝歌。吾侪亦此时，将若苍生何。跨驴入长安，七贵相经过。不敢饰车马，资用防其多。岂无取诸人，量足如饮河。顾视世间人，夷清而惠和。丈夫各有志，不用相讥诃。君今寓高都，连山阻巍峨。佳诗远寄将，建安激馀波。想见萧寺中，抱膝苦吟哦。古人尚詶言，亦期相切磋。愿君无受惠，受惠难负荷。愿君无倦游，倦游意蹉跎。\n",
      "\n",
      "顾炎武\n",
      "\n",
      "在昔尼父圣，韦编尚三绝。况于章句儒，未晓八卦列。相看五十馀，行事无一达。坐见悔吝丛，举足防磋跌。日昃乃研思，犹幸非大耋。微言讵可寻，斯理庶不灭。寡过殊未能，岂厌丁宁说。是时秋雨开，凉风起天末。蟋蟀吟堂阶，疏林延夕月。草木得坚成，吾人珍晚节。亮哉岁寒心，不变霜与雪。忧患自古然，守之俟来哲。\n",
      "\n",
      "顾炎武\n",
      "\n",
      "生年十五馀，即与人事接。中更世难婴，书史伹涉猎。率尔好为文，蔚然富枝叶。终愧康成学，久旷周孔业。日西岁将晏，行事苦不立。礼堂写六经，庶几犹可及。俗流好郑卫，淫词自亲狎。用以扶道真，十无一二合。出门游万里，踽踽恒负笈。晚得逢萧君，探赜穷鲁汲。车中服子慎，一见语便洽。上考三传讹，独授尼父法。方深得朋喜，岂料归欤急。黄鹤对青山，翩然鼓江楫。浮云翳楚天，引领空于邑。何时复相从，问奇补三箧。惟期夕愓心，不负朋簪盍。\n",
      "\n",
      "顾炎武\n",
      "\n",
      "十载相逢汾一曲，新诗历落鸣寒玉。悬瓮山前百道泉，台骀祠下千章木。登车冲雨马频嘶，似惜连钱锦障泥。并州城外无行客，且共刘琨听夜鸡。\n",
      "\n",
      "顾炎武\n",
      "\n",
      "三晋阸河山，登览苦不畅。我欲西之秦，潜身睨霸王。一朝得李生，词坛出飞将。撝呵斗极回，含吐黄河涨。上论周汉初，规模迭开创。以及文章家，流传各宗匠。道术病分门，交游畏流宕。朋党据国中，雌黄恣腾谤。吾道贵大公，片言折邪妄。论事如造车，欲决南辕向。观人如列鼎，欲察神奸状。稍存俞咈词，不害千喁唱。君无曲学阿，我弗当仁让。更读诗百篇，陡觉神采壮。先我入深岩，嵚崟剖重嶂。高披地络文，下挈竺乾藏。大气橐山川，雄风被边障。泚笔作长歌，临岐为余贶。自哂同坎蛙，难佐北溟浪。惟此区区怀，颇亦师直谅。窃闻关西士，自昔多风尚。豁达贯古今，然诺坚足仗。如君复几人，可惬平生望。东还再见君，床头倒春酿。\n",
      "\n",
      "顾炎武\n",
      "\n",
      "唐纲既不振，国姓赐沙陀。遂据晋阳宫，表里收山河。朱温一篡弑，发愤横雕戈。虽报上源雠，大义良不磨。竟得扫京雒，九庙仍登歌。伶官陨庄宗，爱婿亡从珂。传祚颇不长，功名诚足多。我来雁门郡，遗冢高嵯峨。寺中设王像，绯袍熊皮靴。旁有黄衣人，年少神磊砢。想见三垂冈，百年泪滂沱。敌人亦太息，如此孺子何。千载赐姓人，流汗难重过。\n",
      "\n",
      "顾炎武\n",
      "\n",
      "永嘉一蒙尘，中原遂翻覆。名胡石勒诛，触眇苻生戮。哀哉周汉人，离此干戈毒。去去王子年，独向深岩宿。\n",
      "\n",
      "顾炎武\n",
      "\n",
      "霍山古帝畿，崔嵬据汾左。东环太行趋，北负恒山坐。幽泉迸雷出，奇峰挟云堕。百物饶姿容，名花献千朵。庙食当山阿，重门奠磊砢。像设犹古先，冠裳蒙堀堁。春雪覆松杉，堂基对蓬颗。主守各散亡，空室无一锁。五镇称副岳，亦能降淫祸。岂忘帝王朝，时陟高山堕。黍稷既非馨，趋将况云惰。神人一失职，庶事交丛脞。有寺号兴唐，近在祠东埵。昔日义旗来，列宿纷㫊\r\n",
      "      \n",
      "顾炎武\n",
      "\n",
      "吁嗟乎，三代以后天倾西北不复补，但见悲风淅淅吹终古。日月星辰若缀旒，赤黄青白交旁午。北极偏高南极低，四时错迕乖寒暑。城沦洪水海成田，六鳌簸荡中流柱。羲和益稷不任事，画州造历迷尧禹。弯弓不射九日落，苍苍列象生毛羽。仁人志士久郁邑，精卫空费西山土。排天门，荡地户，见天皇，与天姥。五色之石空斑懒，道旁委弃无人取。长人十二来临洮，符姚刘石相雄豪。天竺之书入中国，三千弟子多其曹。凉州龟兹奏宫庙，汉魏雅乐随波涛。花门吐蕃日侵轶，天子数出长安逃。人似鱼虾随水落，世以东南为大壑。一半乾坤长草莱，山南代北虚城郭。百年旧迹邈艰记，遗宫别寝屯狐貉。至今赵城之东八里有冢尚崔嵬，不见娲皇来制作。里人言是古高媒，万世昏姻自此开。华渚虹藏河马去，三皇五帝愁胚胎。奇功异事不可问，汾边山下馀芦灰。惟天生民，无主乃乱。必有圣人，以续周汉。如冬复如春，日月如更旦。剥复相乘除，包牺肇爻彖。不见风陵之堆高突兀，没入河中寻复出，天回地转无多日。\n",
      "\n",
      "顾炎武\n",
      "\n",
      "文皇都北平，始建天津卫。内以辅神京，外彻溟海际。南北泻两河，吐纳百川细。挽漕日夜来，贡赋无留滞。重臣镇其间，鼎足分宣蓟。岂惟念输将，隐然存大计。孽盗踵巢芝，共主非幽厉。曾无一矢遗，歘启都城闭。马嵬止元宗，曹阳宿献帝。虽云两日程，乘舆岂能诣。先帝一出宫，洞然知国势。与其蹈危涂，不若宫中缢。呜呼事一乖，宇宙遂颠蹶。开府固庸才，奉头竟南逝。侈言曲突谋，纵有亦奚济。何人为史官，直笔扫芜翳。登陴望九门，临风洒哀涕。\n",
      "\n",
      "顾炎武\n",
      "\n",
      "诸陵何崔嵬，不改苍然色。下蟠厚地深，上峻青天极。佳气郁葱䓤，灵长讵可测。云何宫阙旁，坐见獯东偪。空劳牲醴陈，微寘神岂食。仁言人所欣，盗言人所惑。小修此陵园，大屑我社稷。朅来复仲春，再拜剪荆棘。臣子分则同，骏奔乃其职。区区犬马心，愧乏匡扶力。\n",
      "\n",
      "顾炎武\n",
      "\n",
      "六陵饶荆榛，白日愁春雨。山原互起伏，井邑犹成聚。偃折冬青枝，哀哀叫杜宇。海水再桑田，江头动金鼓。蹑屩一迁逡，泪洒攒宫土。\n",
      "\n",
      "顾炎武\n",
      "\n",
      "神州既陆沉，时命乃大谬。南望建阳山，荒阡馀石兽。生违鹿柴居，死欠狐邱首。矢口为诗文，吐言每奇秀。扬州九月中，煨芋试新酎。猛志雷破山，剧谈河放溜。否终当自倾，伫待名贤救。落落我等存，一绳维宇宙。\n",
      "\n",
      "顾炎武\n",
      "\n",
      "成祖昔定都，乃省兹山阳。群山自天来，势若蛟龙翔。东趾据卢龙，西脊驰太行。后尻坐黄花，前面临神京。中有万年宅，名曰康家庄。可容百万人，豁然开明堂。维时将作臣，奉旨趋傍傍。盛德比霸杜，宏规轶瀍邙。雷电驱元冥，白云升帝乡。三光坠榆木，穷北回辒辌。駊騀金粟堆，寂寞桥山藏。右献左次景，裕茂迤西旁。泰陵在茂西，稍折南维康。永陵在东南，规模特恢张。碝石为元墀，丹青焕雕梁。昭近九龙池，定依昭左方。其制亦如永，工丽踰孝长。庆居献西隅，德奠永东冈。环山数十里，松柏参天苍。列宗每驾朝，百执恒趋跄。一年祭三举，侍从来班扬。诗追安世歌，典与郊禘光。自伤下土臣，不睹昭代章。天祸降宗国，灭我圣哲王。渴葬池水南，灵宫迫妃殇。上无宝城制，周匝唯砖墙。下有中涓坟，陪葬义所当。殿上立三主，并列田娘娘。问此何代礼，哽咽不可详。麦饭提一箪，枣榛提一筐。村酒与山蔬，一一自携将。下阶拜稽首，出涕双浪浪。主祭非曾孙，降假非宗祊。重上诸陵间，裴回复彷徨。茂陵树千株，独立不受戕。门阖尚完具，上头安御床。自康以接庆，小树多榆枋。殿楼尽黄瓦，逶迤各相望。康昭二明楼，并遭劫火亡。定陵毁大殿，以及东西廊。馀陵半无门，累甓仍支杗。尚存宰牲亭，暨外诸监房。百人十有二，袍笏兼戎装。六兽柱则四，制与钟山亢。跨以七孔桥，峙以白石坊。仁宗所制碑，崷萃当中央。行宫已颓坏，御路徒荒凉。每陵二太监，犹自称司香。人给地数亩，把耒耕山场。春秋祭碑下，共用一豕羊。皆云牧骑来，斫伐尤披猖。并力与之争，仅得保界疆。有盗贵妃冢，斩首竿以枪。于时奸宄民，瞿然始惩创。绕陵凡六口，六口各有兵。一陵立一卫，卫设屯与仓。居庸有总兵，昌平有侍郎。一朝尽散迸，无复陵京防。燕山自峨峨，沙河自汤汤。皇天自高高，后土自芒芒。下痛万赤子，上呼十四皇。哭帝帝不闻，吁天天无常。幽都蹲土伯，九关飞虎伥。日月相蚀亏，列宿为参商。自古有殂落，剧哉哀姚黄。从臣去鼎湖，二妃沈江湘。仓皇一抔土，十五零秋霜。天运未可亿，天心未可量。仲华复西京，崔损修中唐。谁能寄此诗，雅颂同洋洋。\n",
      "\n",
      "顾炎武\n",
      "\n",
      "宋世都临安，江山已失据。犹誇天目山，龙翔而凤翥。重江险足凭，百货东南聚。于此号行都，六帝銮舆驻。西输楚蜀资，北拥淮海戍。湖光映罘罳，山色连宫树。两国罢干戈，君臣日游豫。襄樊一陷没，千里无完固。梵呗响殿庭，番僧抇陵墓。天运亦何常，以此思其惧。浙西钱谷地，不以封宗室。南渡始侨藩，懿亲藉丞弼。序非涿郡疏，德则琅邪匹。如何负扆谋，苍黄止三日。那肱召周军，北庭王卫律。所以敌国人，尽得我虚实。青丝江上来，朱邸城中出。一代都人士，尽屈穹庐䣛。谁为斩逆臣，一奋南史笔。\n",
      "\n",
      "顾炎武\n",
      "\n",
      "芒芒碣石东，此关自天作。粤惟中山王，经营始开拓。东支限重门，幽州截垠堮。前海弥浩溔，后岭横岝㟧。紫塞为周垣，苍山为锁钥。缅思开创初，设险制东索。中叶狃康娱，小有干王略。抚顺矢初穿，广宁旗巳落。抱头化贞逃，束手廷弼却。骎骎河以西，千里屯毡幕。关外修八城，指麾烦内阁。杨公筑二翼，东西立罗郭。时称节镇雄，颇折氛祲恶。神京既颠陨，国势靡所托。启关元帅降，歃血名王诺。自此来域中，土崩无斗格。海燕春乳楼，胡鹰晓飞泊。七庙竟为灰，六州难铸错。\n",
      "\n",
      "顾炎武\n",
      "\n",
      "黄君济川才，大器晚成就。一出事君王，牧马踰岭岫。元臣举国降，羽葆蒙尘狩。崎岖遂奔亡，空山侣猿狖。萧然冶城侧，穷巷一\r\n",
      "      \n",
      "顾炎武\n",
      "\n",
      "呜呼古燕京，金元递开创。初兴靖难师，遂驻时巡仗。制掩汉唐闳，德俪商周王。巍峨大明门，如翚峙南向。其阳肇圜丘，列圣凝灵贶。其内廓乾清，至尊俨旒纩。缭以皇城垣，靓深拟天上。其旁列两街，省寺郁相望。经营本睿裁，斲削命般匠。鼎从郏鄏卜，宅是成周相。穹然对两京，自古无与抗。酆宫逊显敞，未央失宏壮。西来太行条，连天瞩崖嶂。东尽巫闾支，界海看滉瀁。居中守在支，临秋国为防。人物并浩穰，风流馀慨忼。百货集广馗，九金归府藏。通州船万艘，便门车千两。绵延祀四六，三灵哀板荡。紫塞吟悲笳，黄图布毡帐。狱囚圻父臣，郊死凶门将。悲号煤山缢，泣血思陵葬。中华竟崩沦，燔瘗久虚旷。宗子洎群臣，鸢岑与黔涨。丁年抱国耻，未获居一障。垂老入都门，有愿无繇偿。足穿贫士履，首戴狂生盎。愁同箕子过，悴比湘累放。纵横数遗事，太息观今向。农\r\n",
      "      \n",
      "顾炎武\n",
      "\n",
      "自昔遘难初，城邑遭屠割。几同赵卒坑，独此一人活。既偷须臾生，讵敢辞播越。十年四五迁，今复客天末。田园已侵并，书卷亦剽夺。尚虞陷微文，雉罗不自脱。却喜对山川，壮怀稍开豁。秉心在忠信，持身类迂阔。朋友多相怜，此志贯穷达。虽邻河伯居，未肯求呴沫。出国每徒行，花时犹衣褐。以此报知交，无为久恻怛。\n",
      "\n",
      "顾炎武\n",
      "\n",
      "老者人所敬，于今乃贱之。临财但苟得，不复知廉维。五官既不全，造请无虚时。赵孟语谆谆，烦乱不可治。期颐悲褚渊，耄齿嗟苏威。以此住人间，动踂为世嗤。嶷嶷林先生，自小工文辞。彬彬万历中，名硕相因依。高会白下亭，卜筑清溪湄。同心游岱宗，谊友从湘累。江山忽改色，草木皆枯萎。受命松柏独，不改青青姿。今年八十一，小字书新诗。方正既无诎，聪明矧未衰。吾闻王者兴，巡狩名山来。百年且就见，况德为人师。唯此耇成人，皇天所慭遗。以洗多寿辱，以作邦家基。\n",
      "\n",
      "顾炎武\n",
      "\n",
      "仲尼一旅人，栖栖去齐卫。当其在陈时，亦设先人祭。深哉告孟言，缅矣封防制。而我亦何为，远游及三岁。前年北踰汶，顷者东过蓟。三世但一身，南瞻每挥涕。未敢废烝尝，无由办羊彘。粟从仁者求，酒向邻家贳。庶几傥来歆，精灵眇天际。不知自兹往，吾驾焉所税。世故多屯邅，曰归未成计。疢如切中心，没齿安蔬粝。\n",
      "\n",
      "顾炎武\n",
      "\n",
      "北京一崩沦，国史遂中绝。二十有四年，记注亦残缺。中更支与贼，出入五轇轕。亡城与破军，纷错难具说。三案多是非，反覆同一辙。始终为门户，竟与国俱灭。我欲问计吏，朝会非王都。我欲登兰台，秘书入东虞。文武道未亡，臣子不敢诬。窜身云梦中，幸与国典俱。有志述三朝，并及海宇图。一书未及成，触此忧患途。同方有潘子，自小耽文史。荦然持巨笔，直溯明兴始。谓惟司马迁，作书有条理。自馀数十家，充栋徒为尔。上下三百年，粲然得纲纪。索居患无朋，何意来金陵。家在钟山旁，云端接觚棱。亲见高帝时，日月东方升。山川发秀丽，人物流名称。到今王气存，疑有龙虎兴。把酒为君道，千秋事难讨。一代多文章，相随没幽草。城无弦诵生，柱歾藏书老。同文化支字，劫火烧丰镐。自非尼父生，六经亦焉保。夏亡传禹贡，周衰垂六官。后王有所凭，苍生蒙治安。皇祖昔宾天，天地千年寒。闻知有小臣，复见文物完。此人待聘珍，此书藏名山。顾我虽逢掖，犹然抱遗册。定哀三世间，所历如旦夕。颇闻董生语，曾对西都客。期君共编摩，不坠文献迹。便当挈残书，过尔溪上宅。\n",
      "\n"
     ]
    }
   ],
   "source": [
    "# 不带标题名和作者\n",
    "import requests\n",
    "import bs4\n",
    "import sys\n",
    "\n",
    "r = requests.get('https://www.wenxiannet.com/shiwen/index_2.html', auth=('user', 'pass'))\n",
    "soup = bs4.BeautifulSoup(r.text, 'html.parser')\n",
    "Ss = soup.find_all('div', 'sons')\n",
    "for s in Ss:\n",
    "    if s.p == None:\n",
    "        continue\n",
    "    name = s.p.text\n",
    "    time = s.p.next_sibling.next_sibling.a.text\n",
    "    author = s.p.next_sibling.next_sibling.a.next_sibling.next_sibling.text\n",
    "    cont = s.div.div.text\n",
    "#     print(cont)\n",
    "#     w.write(name+'\\n')\n",
    "#     w.write(time+',')\n",
    "#     w.write(author+'\\n')\n",
    "#     w.write(cont+'\\n')\n",
    "#     w2.write(cont+'\\n')"
   ]
  },
  {
   "cell_type": "code",
   "execution_count": 2,
   "metadata": {
    "scrolled": true
   },
   "outputs": [
    {
     "name": "stdout",
     "output_type": "stream",
     "text": [
      "37%  ||###->\r"
     ]
    },
    {
     "ename": "ChunkedEncodingError",
     "evalue": "(\"Connection broken: TimeoutError(10060, '由于连接方在一段时间后没有正确答复或连接的主机没有反应，连接尝试失败。', None, 10060, None)\", TimeoutError(10060, '由于连接方在一段时间后没有正确答复或连接的主机没有反应，连接尝试失败。', None, 10060, None))",
     "output_type": "error",
     "traceback": [
      "\u001b[1;31m---------------------------------------------------------------------------\u001b[0m",
      "\u001b[1;31mTimeoutError\u001b[0m                              Traceback (most recent call last)",
      "\u001b[1;32mD:\\Program\\miniconda\\envs\\DataProc\\lib\\site-packages\\urllib3\\response.py\u001b[0m in \u001b[0;36m_error_catcher\u001b[1;34m(self)\u001b[0m\n\u001b[0;32m    424\u001b[0m             \u001b[1;32mtry\u001b[0m\u001b[1;33m:\u001b[0m\u001b[1;33m\u001b[0m\u001b[1;33m\u001b[0m\u001b[0m\n\u001b[1;32m--> 425\u001b[1;33m                 \u001b[1;32myield\u001b[0m\u001b[1;33m\u001b[0m\u001b[1;33m\u001b[0m\u001b[0m\n\u001b[0m\u001b[0;32m    426\u001b[0m \u001b[1;33m\u001b[0m\u001b[0m\n",
      "\u001b[1;32mD:\\Program\\miniconda\\envs\\DataProc\\lib\\site-packages\\urllib3\\response.py\u001b[0m in \u001b[0;36mread\u001b[1;34m(self, amt, decode_content, cache_content)\u001b[0m\n\u001b[0;32m    506\u001b[0m                 \u001b[0mcache_content\u001b[0m \u001b[1;33m=\u001b[0m \u001b[1;32mFalse\u001b[0m\u001b[1;33m\u001b[0m\u001b[1;33m\u001b[0m\u001b[0m\n\u001b[1;32m--> 507\u001b[1;33m                 \u001b[0mdata\u001b[0m \u001b[1;33m=\u001b[0m \u001b[0mself\u001b[0m\u001b[1;33m.\u001b[0m\u001b[0m_fp\u001b[0m\u001b[1;33m.\u001b[0m\u001b[0mread\u001b[0m\u001b[1;33m(\u001b[0m\u001b[0mamt\u001b[0m\u001b[1;33m)\u001b[0m \u001b[1;32mif\u001b[0m \u001b[1;32mnot\u001b[0m \u001b[0mfp_closed\u001b[0m \u001b[1;32melse\u001b[0m \u001b[1;34mb\"\"\u001b[0m\u001b[1;33m\u001b[0m\u001b[1;33m\u001b[0m\u001b[0m\n\u001b[0m\u001b[0;32m    508\u001b[0m                 if (\n",
      "\u001b[1;32mD:\\Program\\miniconda\\envs\\DataProc\\lib\\http\\client.py\u001b[0m in \u001b[0;36mread\u001b[1;34m(self, amt)\u001b[0m\n\u001b[0;32m    458\u001b[0m             \u001b[0mb\u001b[0m \u001b[1;33m=\u001b[0m \u001b[0mbytearray\u001b[0m\u001b[1;33m(\u001b[0m\u001b[0mamt\u001b[0m\u001b[1;33m)\u001b[0m\u001b[1;33m\u001b[0m\u001b[1;33m\u001b[0m\u001b[0m\n\u001b[1;32m--> 459\u001b[1;33m             \u001b[0mn\u001b[0m \u001b[1;33m=\u001b[0m \u001b[0mself\u001b[0m\u001b[1;33m.\u001b[0m\u001b[0mreadinto\u001b[0m\u001b[1;33m(\u001b[0m\u001b[0mb\u001b[0m\u001b[1;33m)\u001b[0m\u001b[1;33m\u001b[0m\u001b[1;33m\u001b[0m\u001b[0m\n\u001b[0m\u001b[0;32m    460\u001b[0m             \u001b[1;32mreturn\u001b[0m \u001b[0mmemoryview\u001b[0m\u001b[1;33m(\u001b[0m\u001b[0mb\u001b[0m\u001b[1;33m)\u001b[0m\u001b[1;33m[\u001b[0m\u001b[1;33m:\u001b[0m\u001b[0mn\u001b[0m\u001b[1;33m]\u001b[0m\u001b[1;33m.\u001b[0m\u001b[0mtobytes\u001b[0m\u001b[1;33m(\u001b[0m\u001b[1;33m)\u001b[0m\u001b[1;33m\u001b[0m\u001b[1;33m\u001b[0m\u001b[0m\n",
      "\u001b[1;32mD:\\Program\\miniconda\\envs\\DataProc\\lib\\http\\client.py\u001b[0m in \u001b[0;36mreadinto\u001b[1;34m(self, b)\u001b[0m\n\u001b[0;32m    502\u001b[0m         \u001b[1;31m# (for example, reading in 1k chunks)\u001b[0m\u001b[1;33m\u001b[0m\u001b[1;33m\u001b[0m\u001b[1;33m\u001b[0m\u001b[0m\n\u001b[1;32m--> 503\u001b[1;33m         \u001b[0mn\u001b[0m \u001b[1;33m=\u001b[0m \u001b[0mself\u001b[0m\u001b[1;33m.\u001b[0m\u001b[0mfp\u001b[0m\u001b[1;33m.\u001b[0m\u001b[0mreadinto\u001b[0m\u001b[1;33m(\u001b[0m\u001b[0mb\u001b[0m\u001b[1;33m)\u001b[0m\u001b[1;33m\u001b[0m\u001b[1;33m\u001b[0m\u001b[0m\n\u001b[0m\u001b[0;32m    504\u001b[0m         \u001b[1;32mif\u001b[0m \u001b[1;32mnot\u001b[0m \u001b[0mn\u001b[0m \u001b[1;32mand\u001b[0m \u001b[0mb\u001b[0m\u001b[1;33m:\u001b[0m\u001b[1;33m\u001b[0m\u001b[1;33m\u001b[0m\u001b[0m\n",
      "\u001b[1;32mD:\\Program\\miniconda\\envs\\DataProc\\lib\\socket.py\u001b[0m in \u001b[0;36mreadinto\u001b[1;34m(self, b)\u001b[0m\n\u001b[0;32m    585\u001b[0m             \u001b[1;32mtry\u001b[0m\u001b[1;33m:\u001b[0m\u001b[1;33m\u001b[0m\u001b[1;33m\u001b[0m\u001b[0m\n\u001b[1;32m--> 586\u001b[1;33m                 \u001b[1;32mreturn\u001b[0m \u001b[0mself\u001b[0m\u001b[1;33m.\u001b[0m\u001b[0m_sock\u001b[0m\u001b[1;33m.\u001b[0m\u001b[0mrecv_into\u001b[0m\u001b[1;33m(\u001b[0m\u001b[0mb\u001b[0m\u001b[1;33m)\u001b[0m\u001b[1;33m\u001b[0m\u001b[1;33m\u001b[0m\u001b[0m\n\u001b[0m\u001b[0;32m    587\u001b[0m             \u001b[1;32mexcept\u001b[0m \u001b[0mtimeout\u001b[0m\u001b[1;33m:\u001b[0m\u001b[1;33m\u001b[0m\u001b[1;33m\u001b[0m\u001b[0m\n",
      "\u001b[1;32mD:\\Program\\miniconda\\envs\\DataProc\\lib\\ssl.py\u001b[0m in \u001b[0;36mrecv_into\u001b[1;34m(self, buffer, nbytes, flags)\u001b[0m\n\u001b[0;32m   1011\u001b[0m                   self.__class__)\n\u001b[1;32m-> 1012\u001b[1;33m             \u001b[1;32mreturn\u001b[0m \u001b[0mself\u001b[0m\u001b[1;33m.\u001b[0m\u001b[0mread\u001b[0m\u001b[1;33m(\u001b[0m\u001b[0mnbytes\u001b[0m\u001b[1;33m,\u001b[0m \u001b[0mbuffer\u001b[0m\u001b[1;33m)\u001b[0m\u001b[1;33m\u001b[0m\u001b[1;33m\u001b[0m\u001b[0m\n\u001b[0m\u001b[0;32m   1013\u001b[0m         \u001b[1;32melse\u001b[0m\u001b[1;33m:\u001b[0m\u001b[1;33m\u001b[0m\u001b[1;33m\u001b[0m\u001b[0m\n",
      "\u001b[1;32mD:\\Program\\miniconda\\envs\\DataProc\\lib\\ssl.py\u001b[0m in \u001b[0;36mread\u001b[1;34m(self, len, buffer)\u001b[0m\n\u001b[0;32m    873\u001b[0m         \u001b[1;32mtry\u001b[0m\u001b[1;33m:\u001b[0m\u001b[1;33m\u001b[0m\u001b[1;33m\u001b[0m\u001b[0m\n\u001b[1;32m--> 874\u001b[1;33m             \u001b[1;32mreturn\u001b[0m \u001b[0mself\u001b[0m\u001b[1;33m.\u001b[0m\u001b[0m_sslobj\u001b[0m\u001b[1;33m.\u001b[0m\u001b[0mread\u001b[0m\u001b[1;33m(\u001b[0m\u001b[0mlen\u001b[0m\u001b[1;33m,\u001b[0m \u001b[0mbuffer\u001b[0m\u001b[1;33m)\u001b[0m\u001b[1;33m\u001b[0m\u001b[1;33m\u001b[0m\u001b[0m\n\u001b[0m\u001b[0;32m    875\u001b[0m         \u001b[1;32mexcept\u001b[0m \u001b[0mSSLError\u001b[0m \u001b[1;32mas\u001b[0m \u001b[0mx\u001b[0m\u001b[1;33m:\u001b[0m\u001b[1;33m\u001b[0m\u001b[1;33m\u001b[0m\u001b[0m\n",
      "\u001b[1;32mD:\\Program\\miniconda\\envs\\DataProc\\lib\\ssl.py\u001b[0m in \u001b[0;36mread\u001b[1;34m(self, len, buffer)\u001b[0m\n\u001b[0;32m    630\u001b[0m         \u001b[1;32mif\u001b[0m \u001b[0mbuffer\u001b[0m \u001b[1;32mis\u001b[0m \u001b[1;32mnot\u001b[0m \u001b[1;32mNone\u001b[0m\u001b[1;33m:\u001b[0m\u001b[1;33m\u001b[0m\u001b[1;33m\u001b[0m\u001b[0m\n\u001b[1;32m--> 631\u001b[1;33m             \u001b[0mv\u001b[0m \u001b[1;33m=\u001b[0m \u001b[0mself\u001b[0m\u001b[1;33m.\u001b[0m\u001b[0m_sslobj\u001b[0m\u001b[1;33m.\u001b[0m\u001b[0mread\u001b[0m\u001b[1;33m(\u001b[0m\u001b[0mlen\u001b[0m\u001b[1;33m,\u001b[0m \u001b[0mbuffer\u001b[0m\u001b[1;33m)\u001b[0m\u001b[1;33m\u001b[0m\u001b[1;33m\u001b[0m\u001b[0m\n\u001b[0m\u001b[0;32m    632\u001b[0m         \u001b[1;32melse\u001b[0m\u001b[1;33m:\u001b[0m\u001b[1;33m\u001b[0m\u001b[1;33m\u001b[0m\u001b[0m\n",
      "\u001b[1;31mTimeoutError\u001b[0m: [WinError 10060] 由于连接方在一段时间后没有正确答复或连接的主机没有反应，连接尝试失败。",
      "\nDuring handling of the above exception, another exception occurred:\n",
      "\u001b[1;31mProtocolError\u001b[0m                             Traceback (most recent call last)",
      "\u001b[1;32mD:\\Program\\miniconda\\envs\\DataProc\\lib\\site-packages\\requests\\models.py\u001b[0m in \u001b[0;36mgenerate\u001b[1;34m()\u001b[0m\n\u001b[0;32m    749\u001b[0m                 \u001b[1;32mtry\u001b[0m\u001b[1;33m:\u001b[0m\u001b[1;33m\u001b[0m\u001b[1;33m\u001b[0m\u001b[0m\n\u001b[1;32m--> 750\u001b[1;33m                     \u001b[1;32mfor\u001b[0m \u001b[0mchunk\u001b[0m \u001b[1;32min\u001b[0m \u001b[0mself\u001b[0m\u001b[1;33m.\u001b[0m\u001b[0mraw\u001b[0m\u001b[1;33m.\u001b[0m\u001b[0mstream\u001b[0m\u001b[1;33m(\u001b[0m\u001b[0mchunk_size\u001b[0m\u001b[1;33m,\u001b[0m \u001b[0mdecode_content\u001b[0m\u001b[1;33m=\u001b[0m\u001b[1;32mTrue\u001b[0m\u001b[1;33m)\u001b[0m\u001b[1;33m:\u001b[0m\u001b[1;33m\u001b[0m\u001b[1;33m\u001b[0m\u001b[0m\n\u001b[0m\u001b[0;32m    751\u001b[0m                         \u001b[1;32myield\u001b[0m \u001b[0mchunk\u001b[0m\u001b[1;33m\u001b[0m\u001b[1;33m\u001b[0m\u001b[0m\n",
      "\u001b[1;32mD:\\Program\\miniconda\\envs\\DataProc\\lib\\site-packages\\urllib3\\response.py\u001b[0m in \u001b[0;36mstream\u001b[1;34m(self, amt, decode_content)\u001b[0m\n\u001b[0;32m    563\u001b[0m             \u001b[1;32mwhile\u001b[0m \u001b[1;32mnot\u001b[0m \u001b[0mis_fp_closed\u001b[0m\u001b[1;33m(\u001b[0m\u001b[0mself\u001b[0m\u001b[1;33m.\u001b[0m\u001b[0m_fp\u001b[0m\u001b[1;33m)\u001b[0m\u001b[1;33m:\u001b[0m\u001b[1;33m\u001b[0m\u001b[1;33m\u001b[0m\u001b[0m\n\u001b[1;32m--> 564\u001b[1;33m                 \u001b[0mdata\u001b[0m \u001b[1;33m=\u001b[0m \u001b[0mself\u001b[0m\u001b[1;33m.\u001b[0m\u001b[0mread\u001b[0m\u001b[1;33m(\u001b[0m\u001b[0mamt\u001b[0m\u001b[1;33m=\u001b[0m\u001b[0mamt\u001b[0m\u001b[1;33m,\u001b[0m \u001b[0mdecode_content\u001b[0m\u001b[1;33m=\u001b[0m\u001b[0mdecode_content\u001b[0m\u001b[1;33m)\u001b[0m\u001b[1;33m\u001b[0m\u001b[1;33m\u001b[0m\u001b[0m\n\u001b[0m\u001b[0;32m    565\u001b[0m \u001b[1;33m\u001b[0m\u001b[0m\n",
      "\u001b[1;32mD:\\Program\\miniconda\\envs\\DataProc\\lib\\site-packages\\urllib3\\response.py\u001b[0m in \u001b[0;36mread\u001b[1;34m(self, amt, decode_content, cache_content)\u001b[0m\n\u001b[0;32m    528\u001b[0m                         \u001b[1;31m# Content-Length are caught.\u001b[0m\u001b[1;33m\u001b[0m\u001b[1;33m\u001b[0m\u001b[1;33m\u001b[0m\u001b[0m\n\u001b[1;32m--> 529\u001b[1;33m                         \u001b[1;32mraise\u001b[0m \u001b[0mIncompleteRead\u001b[0m\u001b[1;33m(\u001b[0m\u001b[0mself\u001b[0m\u001b[1;33m.\u001b[0m\u001b[0m_fp_bytes_read\u001b[0m\u001b[1;33m,\u001b[0m \u001b[0mself\u001b[0m\u001b[1;33m.\u001b[0m\u001b[0mlength_remaining\u001b[0m\u001b[1;33m)\u001b[0m\u001b[1;33m\u001b[0m\u001b[1;33m\u001b[0m\u001b[0m\n\u001b[0m\u001b[0;32m    530\u001b[0m \u001b[1;33m\u001b[0m\u001b[0m\n",
      "\u001b[1;32mD:\\Program\\miniconda\\envs\\DataProc\\lib\\contextlib.py\u001b[0m in \u001b[0;36m__exit__\u001b[1;34m(self, type, value, traceback)\u001b[0m\n\u001b[0;32m     98\u001b[0m             \u001b[1;32mtry\u001b[0m\u001b[1;33m:\u001b[0m\u001b[1;33m\u001b[0m\u001b[1;33m\u001b[0m\u001b[0m\n\u001b[1;32m---> 99\u001b[1;33m                 \u001b[0mself\u001b[0m\u001b[1;33m.\u001b[0m\u001b[0mgen\u001b[0m\u001b[1;33m.\u001b[0m\u001b[0mthrow\u001b[0m\u001b[1;33m(\u001b[0m\u001b[0mtype\u001b[0m\u001b[1;33m,\u001b[0m \u001b[0mvalue\u001b[0m\u001b[1;33m,\u001b[0m \u001b[0mtraceback\u001b[0m\u001b[1;33m)\u001b[0m\u001b[1;33m\u001b[0m\u001b[1;33m\u001b[0m\u001b[0m\n\u001b[0m\u001b[0;32m    100\u001b[0m             \u001b[1;32mexcept\u001b[0m \u001b[0mStopIteration\u001b[0m \u001b[1;32mas\u001b[0m \u001b[0mexc\u001b[0m\u001b[1;33m:\u001b[0m\u001b[1;33m\u001b[0m\u001b[1;33m\u001b[0m\u001b[0m\n",
      "\u001b[1;32mD:\\Program\\miniconda\\envs\\DataProc\\lib\\site-packages\\urllib3\\response.py\u001b[0m in \u001b[0;36m_error_catcher\u001b[1;34m(self)\u001b[0m\n\u001b[0;32m    442\u001b[0m                 \u001b[1;31m# This includes IncompleteRead.\u001b[0m\u001b[1;33m\u001b[0m\u001b[1;33m\u001b[0m\u001b[1;33m\u001b[0m\u001b[0m\n\u001b[1;32m--> 443\u001b[1;33m                 \u001b[1;32mraise\u001b[0m \u001b[0mProtocolError\u001b[0m\u001b[1;33m(\u001b[0m\u001b[1;34m\"Connection broken: %r\"\u001b[0m \u001b[1;33m%\u001b[0m \u001b[0me\u001b[0m\u001b[1;33m,\u001b[0m \u001b[0me\u001b[0m\u001b[1;33m)\u001b[0m\u001b[1;33m\u001b[0m\u001b[1;33m\u001b[0m\u001b[0m\n\u001b[0m\u001b[0;32m    444\u001b[0m \u001b[1;33m\u001b[0m\u001b[0m\n",
      "\u001b[1;31mProtocolError\u001b[0m: (\"Connection broken: TimeoutError(10060, '由于连接方在一段时间后没有正确答复或连接的主机没有反应，连接尝试失败。', None, 10060, None)\", TimeoutError(10060, '由于连接方在一段时间后没有正确答复或连接的主机没有反应，连接尝试失败。', None, 10060, None))",
      "\nDuring handling of the above exception, another exception occurred:\n",
      "\u001b[1;31mChunkedEncodingError\u001b[0m                      Traceback (most recent call last)",
      "\u001b[1;32m<ipython-input-2-2932e6356b8e>\u001b[0m in \u001b[0;36m<module>\u001b[1;34m\u001b[0m\n\u001b[0;32m     10\u001b[0m         \u001b[1;32mfor\u001b[0m \u001b[0mi\u001b[0m \u001b[1;32min\u001b[0m \u001b[0mrange\u001b[0m\u001b[1;33m(\u001b[0m\u001b[1;36m1000\u001b[0m\u001b[1;33m)\u001b[0m\u001b[1;33m:\u001b[0m\u001b[1;33m\u001b[0m\u001b[1;33m\u001b[0m\u001b[0m\n\u001b[0;32m     11\u001b[0m             \u001b[0mcount\u001b[0m \u001b[1;33m+=\u001b[0m \u001b[1;36m1\u001b[0m\u001b[1;33m\u001b[0m\u001b[1;33m\u001b[0m\u001b[0m\n\u001b[1;32m---> 12\u001b[1;33m             \u001b[0mr\u001b[0m \u001b[1;33m=\u001b[0m \u001b[0mrequests\u001b[0m\u001b[1;33m.\u001b[0m\u001b[0mget\u001b[0m\u001b[1;33m(\u001b[0m\u001b[1;34m'https://www.wenxiannet.com/shiwen/index_{}.html'\u001b[0m\u001b[1;33m.\u001b[0m\u001b[0mformat\u001b[0m\u001b[1;33m(\u001b[0m\u001b[0mstr\u001b[0m\u001b[1;33m(\u001b[0m\u001b[0mcount\u001b[0m\u001b[1;33m)\u001b[0m\u001b[1;33m)\u001b[0m\u001b[1;33m,\u001b[0m \u001b[0mauth\u001b[0m\u001b[1;33m=\u001b[0m\u001b[1;33m(\u001b[0m\u001b[1;34m'user'\u001b[0m\u001b[1;33m,\u001b[0m \u001b[1;34m'pass'\u001b[0m\u001b[1;33m)\u001b[0m\u001b[1;33m)\u001b[0m\u001b[1;33m\u001b[0m\u001b[1;33m\u001b[0m\u001b[0m\n\u001b[0m\u001b[0;32m     13\u001b[0m             \u001b[0msys\u001b[0m\u001b[1;33m.\u001b[0m\u001b[0mstdout\u001b[0m\u001b[1;33m.\u001b[0m\u001b[0mwrite\u001b[0m\u001b[1;33m(\u001b[0m\u001b[0mstr\u001b[0m\u001b[1;33m(\u001b[0m\u001b[0mint\u001b[0m\u001b[1;33m(\u001b[0m\u001b[1;33m(\u001b[0m\u001b[0mi\u001b[0m\u001b[1;33m/\u001b[0m\u001b[1;36m1000\u001b[0m\u001b[1;33m)\u001b[0m\u001b[1;33m*\u001b[0m\u001b[1;36m100\u001b[0m\u001b[1;33m)\u001b[0m\u001b[1;33m)\u001b[0m\u001b[1;33m+\u001b[0m\u001b[1;34m'%  ||'\u001b[0m\u001b[1;33m+\u001b[0m\u001b[1;33m(\u001b[0m\u001b[1;34m'#'\u001b[0m\u001b[1;33m*\u001b[0m\u001b[0mint\u001b[0m\u001b[1;33m(\u001b[0m\u001b[0mi\u001b[0m\u001b[1;33m/\u001b[0m\u001b[1;36m100\u001b[0m\u001b[1;33m)\u001b[0m\u001b[1;33m)\u001b[0m\u001b[1;33m+\u001b[0m\u001b[1;34m'->'\u001b[0m\u001b[1;33m+\u001b[0m\u001b[1;34m\"\\r\"\u001b[0m\u001b[1;33m)\u001b[0m\u001b[1;33m\u001b[0m\u001b[1;33m\u001b[0m\u001b[0m\n\u001b[0;32m     14\u001b[0m             \u001b[0msys\u001b[0m\u001b[1;33m.\u001b[0m\u001b[0mstdout\u001b[0m\u001b[1;33m.\u001b[0m\u001b[0mflush\u001b[0m\u001b[1;33m(\u001b[0m\u001b[1;33m)\u001b[0m\u001b[1;33m\u001b[0m\u001b[1;33m\u001b[0m\u001b[0m\n",
      "\u001b[1;32mD:\\Program\\miniconda\\envs\\DataProc\\lib\\site-packages\\requests\\api.py\u001b[0m in \u001b[0;36mget\u001b[1;34m(url, params, **kwargs)\u001b[0m\n\u001b[0;32m     73\u001b[0m \u001b[1;33m\u001b[0m\u001b[0m\n\u001b[0;32m     74\u001b[0m     \u001b[0mkwargs\u001b[0m\u001b[1;33m.\u001b[0m\u001b[0msetdefault\u001b[0m\u001b[1;33m(\u001b[0m\u001b[1;34m'allow_redirects'\u001b[0m\u001b[1;33m,\u001b[0m \u001b[1;32mTrue\u001b[0m\u001b[1;33m)\u001b[0m\u001b[1;33m\u001b[0m\u001b[1;33m\u001b[0m\u001b[0m\n\u001b[1;32m---> 75\u001b[1;33m     \u001b[1;32mreturn\u001b[0m \u001b[0mrequest\u001b[0m\u001b[1;33m(\u001b[0m\u001b[1;34m'get'\u001b[0m\u001b[1;33m,\u001b[0m \u001b[0murl\u001b[0m\u001b[1;33m,\u001b[0m \u001b[0mparams\u001b[0m\u001b[1;33m=\u001b[0m\u001b[0mparams\u001b[0m\u001b[1;33m,\u001b[0m \u001b[1;33m**\u001b[0m\u001b[0mkwargs\u001b[0m\u001b[1;33m)\u001b[0m\u001b[1;33m\u001b[0m\u001b[1;33m\u001b[0m\u001b[0m\n\u001b[0m\u001b[0;32m     76\u001b[0m \u001b[1;33m\u001b[0m\u001b[0m\n\u001b[0;32m     77\u001b[0m \u001b[1;33m\u001b[0m\u001b[0m\n",
      "\u001b[1;32mD:\\Program\\miniconda\\envs\\DataProc\\lib\\site-packages\\requests\\api.py\u001b[0m in \u001b[0;36mrequest\u001b[1;34m(method, url, **kwargs)\u001b[0m\n\u001b[0;32m     58\u001b[0m     \u001b[1;31m# cases, and look like a memory leak in others.\u001b[0m\u001b[1;33m\u001b[0m\u001b[1;33m\u001b[0m\u001b[1;33m\u001b[0m\u001b[0m\n\u001b[0;32m     59\u001b[0m     \u001b[1;32mwith\u001b[0m \u001b[0msessions\u001b[0m\u001b[1;33m.\u001b[0m\u001b[0mSession\u001b[0m\u001b[1;33m(\u001b[0m\u001b[1;33m)\u001b[0m \u001b[1;32mas\u001b[0m \u001b[0msession\u001b[0m\u001b[1;33m:\u001b[0m\u001b[1;33m\u001b[0m\u001b[1;33m\u001b[0m\u001b[0m\n\u001b[1;32m---> 60\u001b[1;33m         \u001b[1;32mreturn\u001b[0m \u001b[0msession\u001b[0m\u001b[1;33m.\u001b[0m\u001b[0mrequest\u001b[0m\u001b[1;33m(\u001b[0m\u001b[0mmethod\u001b[0m\u001b[1;33m=\u001b[0m\u001b[0mmethod\u001b[0m\u001b[1;33m,\u001b[0m \u001b[0murl\u001b[0m\u001b[1;33m=\u001b[0m\u001b[0murl\u001b[0m\u001b[1;33m,\u001b[0m \u001b[1;33m**\u001b[0m\u001b[0mkwargs\u001b[0m\u001b[1;33m)\u001b[0m\u001b[1;33m\u001b[0m\u001b[1;33m\u001b[0m\u001b[0m\n\u001b[0m\u001b[0;32m     61\u001b[0m \u001b[1;33m\u001b[0m\u001b[0m\n\u001b[0;32m     62\u001b[0m \u001b[1;33m\u001b[0m\u001b[0m\n",
      "\u001b[1;32mD:\\Program\\miniconda\\envs\\DataProc\\lib\\site-packages\\requests\\sessions.py\u001b[0m in \u001b[0;36mrequest\u001b[1;34m(self, method, url, params, data, headers, cookies, files, auth, timeout, allow_redirects, proxies, hooks, stream, verify, cert, json)\u001b[0m\n\u001b[0;32m    531\u001b[0m         }\n\u001b[0;32m    532\u001b[0m         \u001b[0msend_kwargs\u001b[0m\u001b[1;33m.\u001b[0m\u001b[0mupdate\u001b[0m\u001b[1;33m(\u001b[0m\u001b[0msettings\u001b[0m\u001b[1;33m)\u001b[0m\u001b[1;33m\u001b[0m\u001b[1;33m\u001b[0m\u001b[0m\n\u001b[1;32m--> 533\u001b[1;33m         \u001b[0mresp\u001b[0m \u001b[1;33m=\u001b[0m \u001b[0mself\u001b[0m\u001b[1;33m.\u001b[0m\u001b[0msend\u001b[0m\u001b[1;33m(\u001b[0m\u001b[0mprep\u001b[0m\u001b[1;33m,\u001b[0m \u001b[1;33m**\u001b[0m\u001b[0msend_kwargs\u001b[0m\u001b[1;33m)\u001b[0m\u001b[1;33m\u001b[0m\u001b[1;33m\u001b[0m\u001b[0m\n\u001b[0m\u001b[0;32m    534\u001b[0m \u001b[1;33m\u001b[0m\u001b[0m\n\u001b[0;32m    535\u001b[0m         \u001b[1;32mreturn\u001b[0m \u001b[0mresp\u001b[0m\u001b[1;33m\u001b[0m\u001b[1;33m\u001b[0m\u001b[0m\n",
      "\u001b[1;32mD:\\Program\\miniconda\\envs\\DataProc\\lib\\site-packages\\requests\\sessions.py\u001b[0m in \u001b[0;36msend\u001b[1;34m(self, request, **kwargs)\u001b[0m\n\u001b[0;32m    684\u001b[0m \u001b[1;33m\u001b[0m\u001b[0m\n\u001b[0;32m    685\u001b[0m         \u001b[1;32mif\u001b[0m \u001b[1;32mnot\u001b[0m \u001b[0mstream\u001b[0m\u001b[1;33m:\u001b[0m\u001b[1;33m\u001b[0m\u001b[1;33m\u001b[0m\u001b[0m\n\u001b[1;32m--> 686\u001b[1;33m             \u001b[0mr\u001b[0m\u001b[1;33m.\u001b[0m\u001b[0mcontent\u001b[0m\u001b[1;33m\u001b[0m\u001b[1;33m\u001b[0m\u001b[0m\n\u001b[0m\u001b[0;32m    687\u001b[0m \u001b[1;33m\u001b[0m\u001b[0m\n\u001b[0;32m    688\u001b[0m         \u001b[1;32mreturn\u001b[0m \u001b[0mr\u001b[0m\u001b[1;33m\u001b[0m\u001b[1;33m\u001b[0m\u001b[0m\n",
      "\u001b[1;32mD:\\Program\\miniconda\\envs\\DataProc\\lib\\site-packages\\requests\\models.py\u001b[0m in \u001b[0;36mcontent\u001b[1;34m(self)\u001b[0m\n\u001b[0;32m    826\u001b[0m                 \u001b[0mself\u001b[0m\u001b[1;33m.\u001b[0m\u001b[0m_content\u001b[0m \u001b[1;33m=\u001b[0m \u001b[1;32mNone\u001b[0m\u001b[1;33m\u001b[0m\u001b[1;33m\u001b[0m\u001b[0m\n\u001b[0;32m    827\u001b[0m             \u001b[1;32melse\u001b[0m\u001b[1;33m:\u001b[0m\u001b[1;33m\u001b[0m\u001b[1;33m\u001b[0m\u001b[0m\n\u001b[1;32m--> 828\u001b[1;33m                 \u001b[0mself\u001b[0m\u001b[1;33m.\u001b[0m\u001b[0m_content\u001b[0m \u001b[1;33m=\u001b[0m \u001b[1;34mb''\u001b[0m\u001b[1;33m.\u001b[0m\u001b[0mjoin\u001b[0m\u001b[1;33m(\u001b[0m\u001b[0mself\u001b[0m\u001b[1;33m.\u001b[0m\u001b[0miter_content\u001b[0m\u001b[1;33m(\u001b[0m\u001b[0mCONTENT_CHUNK_SIZE\u001b[0m\u001b[1;33m)\u001b[0m\u001b[1;33m)\u001b[0m \u001b[1;32mor\u001b[0m \u001b[1;34mb''\u001b[0m\u001b[1;33m\u001b[0m\u001b[1;33m\u001b[0m\u001b[0m\n\u001b[0m\u001b[0;32m    829\u001b[0m \u001b[1;33m\u001b[0m\u001b[0m\n\u001b[0;32m    830\u001b[0m         \u001b[0mself\u001b[0m\u001b[1;33m.\u001b[0m\u001b[0m_content_consumed\u001b[0m \u001b[1;33m=\u001b[0m \u001b[1;32mTrue\u001b[0m\u001b[1;33m\u001b[0m\u001b[1;33m\u001b[0m\u001b[0m\n",
      "\u001b[1;32mD:\\Program\\miniconda\\envs\\DataProc\\lib\\site-packages\\requests\\models.py\u001b[0m in \u001b[0;36mgenerate\u001b[1;34m()\u001b[0m\n\u001b[0;32m    751\u001b[0m                         \u001b[1;32myield\u001b[0m \u001b[0mchunk\u001b[0m\u001b[1;33m\u001b[0m\u001b[1;33m\u001b[0m\u001b[0m\n\u001b[0;32m    752\u001b[0m                 \u001b[1;32mexcept\u001b[0m \u001b[0mProtocolError\u001b[0m \u001b[1;32mas\u001b[0m \u001b[0me\u001b[0m\u001b[1;33m:\u001b[0m\u001b[1;33m\u001b[0m\u001b[1;33m\u001b[0m\u001b[0m\n\u001b[1;32m--> 753\u001b[1;33m                     \u001b[1;32mraise\u001b[0m \u001b[0mChunkedEncodingError\u001b[0m\u001b[1;33m(\u001b[0m\u001b[0me\u001b[0m\u001b[1;33m)\u001b[0m\u001b[1;33m\u001b[0m\u001b[1;33m\u001b[0m\u001b[0m\n\u001b[0m\u001b[0;32m    754\u001b[0m                 \u001b[1;32mexcept\u001b[0m \u001b[0mDecodeError\u001b[0m \u001b[1;32mas\u001b[0m \u001b[0me\u001b[0m\u001b[1;33m:\u001b[0m\u001b[1;33m\u001b[0m\u001b[1;33m\u001b[0m\u001b[0m\n\u001b[0;32m    755\u001b[0m                     \u001b[1;32mraise\u001b[0m \u001b[0mContentDecodingError\u001b[0m\u001b[1;33m(\u001b[0m\u001b[0me\u001b[0m\u001b[1;33m)\u001b[0m\u001b[1;33m\u001b[0m\u001b[1;33m\u001b[0m\u001b[0m\n",
      "\u001b[1;31mChunkedEncodingError\u001b[0m: (\"Connection broken: TimeoutError(10060, '由于连接方在一段时间后没有正确答复或连接的主机没有反应，连接尝试失败。', None, 10060, None)\", TimeoutError(10060, '由于连接方在一段时间后没有正确答复或连接的主机没有反应，连接尝试失败。', None, 10060, None))"
     ]
    }
   ],
   "source": [
    "# 不带标题名和作者\n",
    "import requests\n",
    "import bs4\n",
    "import sys\n",
    "import time\n",
    "\n",
    "count = 1\n",
    "with open('data_old_raw2.txt', 'w', encoding='UTF-8') as w:\n",
    "    with open('data_old2.txt', 'w', encoding='UTF-8') as w2:\n",
    "        for i in range(1000):\n",
    "            count += 1\n",
    "            r = requests.get('https://www.wenxiannet.com/shiwen/index_{}.html'.format(str(count)), auth=('user', 'pass'))\n",
    "            sys.stdout.write(str(int((i/1000)*100))+'%  ||'+('#'*int(i/100))+'->'+\"\\r\")\n",
    "            sys.stdout.flush()\n",
    "            soup = bs4.BeautifulSoup(r.text, 'html.parser')\n",
    "            Ss = soup.find_all('div', 'sons')\n",
    "            for s in Ss:\n",
    "                if s.p == None:\n",
    "                    continue\n",
    "                name = s.p.text\n",
    "                if s.p.next_sibling.next_sibling.a == None:\n",
    "                    Time = ' '\n",
    "                else:\n",
    "                    Time = s.p.next_sibling.next_sibling.a.text\n",
    "                if  s.p.next_sibling.next_sibling.a.next_sibling.next_sibling == None:\n",
    "                    author = ' '\n",
    "                else:\n",
    "                    author = s.p.next_sibling.next_sibling.a.next_sibling.next_sibling.text\n",
    "                if s.div.div == None:\n",
    "                    continue\n",
    "                cont = s.div.div.text\n",
    "                w.write(name+'\\n')\n",
    "                w.write(Time+',')\n",
    "                w.write(author+'\\n')\n",
    "                w.write(cont+'\\n')\n",
    "                w2.write(cont+'\\n')\n",
    "            time.sleep(0.1)"
   ]
  }
 ],
 "metadata": {
  "kernelspec": {
   "display_name": "DataProc",
   "language": "python",
   "name": "dataproc"
  },
  "language_info": {
   "codemirror_mode": {
    "name": "ipython",
    "version": 3
   },
   "file_extension": ".py",
   "mimetype": "text/x-python",
   "name": "python",
   "nbconvert_exporter": "python",
   "pygments_lexer": "ipython3",
   "version": "3.6.9"
  },
  "toc": {
   "base_numbering": 1,
   "nav_menu": {},
   "number_sections": true,
   "sideBar": true,
   "skip_h1_title": false,
   "title_cell": "Table of Contents",
   "title_sidebar": "Contents",
   "toc_cell": false,
   "toc_position": {},
   "toc_section_display": true,
   "toc_window_display": false
  },
  "varInspector": {
   "cols": {
    "lenName": 16,
    "lenType": 16,
    "lenVar": 40
   },
   "kernels_config": {
    "python": {
     "delete_cmd_postfix": "",
     "delete_cmd_prefix": "del ",
     "library": "var_list.py",
     "varRefreshCmd": "print(var_dic_list())"
    },
    "r": {
     "delete_cmd_postfix": ") ",
     "delete_cmd_prefix": "rm(",
     "library": "var_list.r",
     "varRefreshCmd": "cat(var_dic_list()) "
    }
   },
   "types_to_exclude": [
    "module",
    "function",
    "builtin_function_or_method",
    "instance",
    "_Feature"
   ],
   "window_display": false
  }
 },
 "nbformat": 4,
 "nbformat_minor": 2
}
